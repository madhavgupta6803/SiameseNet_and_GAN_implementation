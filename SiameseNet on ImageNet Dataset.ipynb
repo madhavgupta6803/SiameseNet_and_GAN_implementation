{
  "cells": [
    {
      "cell_type": "markdown",
      "metadata": {
        "id": "rHCV0siWrNmp"
      },
      "source": [
        "#### Installing the Pytorch library"
      ]
    },
    {
      "cell_type": "code",
      "execution_count": 1,
      "metadata": {
        "colab": {
          "base_uri": "https://localhost:8080/"
        },
        "id": "YBmePWF6mT6s",
        "outputId": "095d09b0-6f05-4a78-f2a3-ba9024c0020a"
      },
      "outputs": [
        {
          "output_type": "stream",
          "name": "stdout",
          "text": [
            "Requirement already satisfied: torch in /usr/local/lib/python3.10/dist-packages (2.1.0+cu118)\n",
            "Requirement already satisfied: filelock in /usr/local/lib/python3.10/dist-packages (from torch) (3.12.4)\n",
            "Requirement already satisfied: typing-extensions in /usr/local/lib/python3.10/dist-packages (from torch) (4.5.0)\n",
            "Requirement already satisfied: sympy in /usr/local/lib/python3.10/dist-packages (from torch) (1.12)\n",
            "Requirement already satisfied: networkx in /usr/local/lib/python3.10/dist-packages (from torch) (3.1)\n",
            "Requirement already satisfied: jinja2 in /usr/local/lib/python3.10/dist-packages (from torch) (3.1.2)\n",
            "Requirement already satisfied: fsspec in /usr/local/lib/python3.10/dist-packages (from torch) (2023.6.0)\n",
            "Requirement already satisfied: triton==2.1.0 in /usr/local/lib/python3.10/dist-packages (from torch) (2.1.0)\n",
            "Requirement already satisfied: MarkupSafe>=2.0 in /usr/local/lib/python3.10/dist-packages (from jinja2->torch) (2.1.3)\n",
            "Requirement already satisfied: mpmath>=0.19 in /usr/local/lib/python3.10/dist-packages (from sympy->torch) (1.3.0)\n"
          ]
        }
      ],
      "source": [
        "!pip install torch"
      ]
    },
    {
      "cell_type": "markdown",
      "metadata": {
        "id": "Ga8ATiHVrbXW"
      },
      "source": [
        "#### Importing torch and its various sub-packages to import dataloader, datasets and transforms. Using sklearn to import train-test split and shuffle functions"
      ]
    },
    {
      "cell_type": "code",
      "execution_count": 2,
      "metadata": {
        "id": "2Rw2PoVSmJXW"
      },
      "outputs": [],
      "source": [
        "import os\n",
        "import random\n",
        "import numpy as np\n",
        "import cv2\n",
        "import torch\n",
        "import torch.nn as nn\n",
        "import torch.optim as optim\n",
        "from PIL import Image  # You can use PIL to open images\n",
        "from torchvision import models, transforms, datasets\n",
        "from torch.utils.data import DataLoader, Dataset\n",
        "from sklearn.model_selection import train_test_split\n",
        "from sklearn.utils import shuffle"
      ]
    },
    {
      "cell_type": "markdown",
      "metadata": {
        "id": "vclp_PCisEyb"
      },
      "source": [
        "#### (1) Unzipping the available dataset file"
      ]
    },
    {
      "cell_type": "code",
      "execution_count": 3,
      "metadata": {
        "colab": {
          "base_uri": "https://localhost:8080/"
        },
        "id": "KEw_2mn1rArC",
        "outputId": "fd6cd975-1744-455b-ca21-c4e6e03007fa"
      },
      "outputs": [
        {
          "output_type": "stream",
          "name": "stdout",
          "text": [
            "Archive:  /content/Dataset_Available.zip\n",
            "   creating: Dataset_Available/Aaron_Eckhart/\n",
            "  inflating: Dataset_Available/Aaron_Eckhart/Aaron_Eckhart_0001.jpg  \n",
            "   creating: Dataset_Available/Aaron_Guiel/\n",
            "  inflating: Dataset_Available/Aaron_Guiel/Aaron_Guiel_0001.jpg  \n",
            "   creating: Dataset_Available/Aaron_Patterson/\n",
            "  inflating: Dataset_Available/Aaron_Patterson/Aaron_Patterson_0001.jpg  \n",
            "   creating: Dataset_Available/Aaron_Peirsol/\n",
            "  inflating: Dataset_Available/Aaron_Peirsol/Aaron_Peirsol_0001.jpg  \n",
            "  inflating: Dataset_Available/Aaron_Peirsol/Aaron_Peirsol_0002.jpg  \n",
            "  inflating: Dataset_Available/Aaron_Peirsol/Aaron_Peirsol_0003.jpg  \n",
            "  inflating: Dataset_Available/Aaron_Peirsol/Aaron_Peirsol_0004.jpg  \n",
            "   creating: Dataset_Available/Aaron_Pena/\n",
            "  inflating: Dataset_Available/Aaron_Pena/Aaron_Pena_0001.jpg  \n",
            "   creating: Dataset_Available/Aaron_Sorkin/\n",
            "  inflating: Dataset_Available/Aaron_Sorkin/Aaron_Sorkin_0001.jpg  \n",
            "  inflating: Dataset_Available/Aaron_Sorkin/Aaron_Sorkin_0002.jpg  \n",
            "   creating: Dataset_Available/Aaron_Tippin/\n",
            "  inflating: Dataset_Available/Aaron_Tippin/Aaron_Tippin_0001.jpg  \n",
            "   creating: Dataset_Available/Abba_Eban/\n",
            "  inflating: Dataset_Available/Abba_Eban/Abba_Eban_0001.jpg  \n",
            "   creating: Dataset_Available/Abbas_Kiarostami/\n",
            "  inflating: Dataset_Available/Abbas_Kiarostami/Abbas_Kiarostami_0001.jpg  \n",
            "   creating: Dataset_Available/Abdel_Aziz_Al-Hakim/\n",
            "  inflating: Dataset_Available/Abdel_Aziz_Al-Hakim/Abdel_Aziz_Al-Hakim_0001.jpg  \n",
            "   creating: Dataset_Available/Abdel_Madi_Shabneh/\n",
            "  inflating: Dataset_Available/Abdel_Madi_Shabneh/Abdel_Madi_Shabneh_0001.jpg  \n",
            "   creating: Dataset_Available/Abdel_Nasser_Assidi/\n",
            "  inflating: Dataset_Available/Abdel_Nasser_Assidi/Abdel_Nasser_Assidi_0001.jpg  \n",
            "  inflating: Dataset_Available/Abdel_Nasser_Assidi/Abdel_Nasser_Assidi_0002.jpg  \n",
            "   creating: Dataset_Available/Abdoulaye_Wade/\n",
            "  inflating: Dataset_Available/Abdoulaye_Wade/Abdoulaye_Wade_0001.jpg  \n",
            "  inflating: Dataset_Available/Abdoulaye_Wade/Abdoulaye_Wade_0002.jpg  \n",
            "  inflating: Dataset_Available/Abdoulaye_Wade/Abdoulaye_Wade_0003.jpg  \n",
            "  inflating: Dataset_Available/Abdoulaye_Wade/Abdoulaye_Wade_0004.jpg  \n",
            "   creating: Dataset_Available/Abdul_Majeed_Shobokshi/\n",
            "  inflating: Dataset_Available/Abdul_Majeed_Shobokshi/Abdul_Majeed_Shobokshi_0001.jpg  \n",
            "   creating: Dataset_Available/Abdul_Rahman/\n",
            "  inflating: Dataset_Available/Abdul_Rahman/Abdul_Rahman_0001.jpg  \n",
            "   creating: Dataset_Available/Abdulaziz_Kamilov/\n",
            "  inflating: Dataset_Available/Abdulaziz_Kamilov/Abdulaziz_Kamilov_0001.jpg  \n",
            "   creating: Dataset_Available/Abdullah/\n",
            "  inflating: Dataset_Available/Abdullah/Abdullah_0001.jpg  \n",
            "  inflating: Dataset_Available/Abdullah/Abdullah_0002.jpg  \n",
            "  inflating: Dataset_Available/Abdullah/Abdullah_0003.jpg  \n",
            "  inflating: Dataset_Available/Abdullah/Abdullah_0004.jpg  \n",
            "   creating: Dataset_Available/Abdullah_Ahmad_Badawi/\n",
            "  inflating: Dataset_Available/Abdullah_Ahmad_Badawi/Abdullah_Ahmad_Badawi_0001.jpg  \n",
            "   creating: Dataset_Available/Abdullah_al-Attiyah/\n",
            "  inflating: Dataset_Available/Abdullah_al-Attiyah/Abdullah_al-Attiyah_0001.jpg  \n",
            "  inflating: Dataset_Available/Abdullah_al-Attiyah/Abdullah_al-Attiyah_0002.jpg  \n",
            "  inflating: Dataset_Available/Abdullah_al-Attiyah/Abdullah_al-Attiyah_0003.jpg  \n",
            "   creating: Dataset_Available/Abdullah_Gul/\n",
            "  inflating: Dataset_Available/Abdullah_Gul/Abdullah_Gul_0001.jpg  \n",
            "  inflating: Dataset_Available/Abdullah_Gul/Abdullah_Gul_0002.jpg  \n",
            "  inflating: Dataset_Available/Abdullah_Gul/Abdullah_Gul_0003.jpg  \n",
            "  inflating: Dataset_Available/Abdullah_Gul/Abdullah_Gul_0004.jpg  \n",
            "  inflating: Dataset_Available/Abdullah_Gul/Abdullah_Gul_0005.jpg  \n",
            "  inflating: Dataset_Available/Abdullah_Gul/Abdullah_Gul_0006.jpg  \n",
            "  inflating: Dataset_Available/Abdullah_Gul/Abdullah_Gul_0007.jpg  \n",
            "  inflating: Dataset_Available/Abdullah_Gul/Abdullah_Gul_0008.jpg  \n",
            "  inflating: Dataset_Available/Abdullah_Gul/Abdullah_Gul_0009.jpg  \n",
            "  inflating: Dataset_Available/Abdullah_Gul/Abdullah_Gul_0010.jpg  \n",
            "  inflating: Dataset_Available/Abdullah_Gul/Abdullah_Gul_0011.jpg  \n",
            "  inflating: Dataset_Available/Abdullah_Gul/Abdullah_Gul_0012.jpg  \n",
            "  inflating: Dataset_Available/Abdullah_Gul/Abdullah_Gul_0013.jpg  \n",
            "  inflating: Dataset_Available/Abdullah_Gul/Abdullah_Gul_0014.jpg  \n",
            "  inflating: Dataset_Available/Abdullah_Gul/Abdullah_Gul_0015.jpg  \n",
            "  inflating: Dataset_Available/Abdullah_Gul/Abdullah_Gul_0016.jpg  \n",
            "  inflating: Dataset_Available/Abdullah_Gul/Abdullah_Gul_0017.jpg  \n",
            "  inflating: Dataset_Available/Abdullah_Gul/Abdullah_Gul_0018.jpg  \n",
            "  inflating: Dataset_Available/Abdullah_Gul/Abdullah_Gul_0019.jpg  \n",
            "   creating: Dataset_Available/Abdullah_Nasseef/\n",
            "  inflating: Dataset_Available/Abdullah_Nasseef/Abdullah_Nasseef_0001.jpg  \n",
            "   creating: Dataset_Available/Abdullatif_Sener/\n",
            "  inflating: Dataset_Available/Abdullatif_Sener/Abdullatif_Sener_0001.jpg  \n",
            "  inflating: Dataset_Available/Abdullatif_Sener/Abdullatif_Sener_0002.jpg  \n",
            "   creating: Dataset_Available/Abel_Aguilar/\n",
            "  inflating: Dataset_Available/Abel_Aguilar/Abel_Aguilar_0001.jpg  \n",
            "   creating: Dataset_Available/Abel_Pacheco/\n",
            "  inflating: Dataset_Available/Abel_Pacheco/Abel_Pacheco_0001.jpg  \n",
            "  inflating: Dataset_Available/Abel_Pacheco/Abel_Pacheco_0002.jpg  \n",
            "  inflating: Dataset_Available/Abel_Pacheco/Abel_Pacheco_0003.jpg  \n",
            "  inflating: Dataset_Available/Abel_Pacheco/Abel_Pacheco_0004.jpg  \n",
            "   creating: Dataset_Available/Abid_Hamid_Mahmud_Al-Tikriti/\n",
            "  inflating: Dataset_Available/Abid_Hamid_Mahmud_Al-Tikriti/Abid_Hamid_Mahmud_Al-Tikriti_0001.jpg  \n",
            "  inflating: Dataset_Available/Abid_Hamid_Mahmud_Al-Tikriti/Abid_Hamid_Mahmud_Al-Tikriti_0002.jpg  \n",
            "  inflating: Dataset_Available/Abid_Hamid_Mahmud_Al-Tikriti/Abid_Hamid_Mahmud_Al-Tikriti_0003.jpg  \n",
            "   creating: Dataset_Available/Abner_Martinez/\n",
            "  inflating: Dataset_Available/Abner_Martinez/Abner_Martinez_0001.jpg  \n",
            "   creating: Dataset_Available/Abraham_Foxman/\n",
            "  inflating: Dataset_Available/Abraham_Foxman/Abraham_Foxman_0001.jpg  \n",
            "   creating: Dataset_Available/Aby_Har-Even/\n",
            "  inflating: Dataset_Available/Aby_Har-Even/Aby_Har-Even_0001.jpg  \n",
            "   creating: Dataset_Available/Adam_Ant/\n",
            "  inflating: Dataset_Available/Adam_Ant/Adam_Ant_0001.jpg  \n",
            "   creating: Dataset_Available/Adam_Freier/\n",
            "  inflating: Dataset_Available/Adam_Freier/Adam_Freier_0001.jpg  \n",
            "   creating: Dataset_Available/Adam_Herbert/\n",
            "  inflating: Dataset_Available/Adam_Herbert/Adam_Herbert_0001.jpg  \n",
            "   creating: Dataset_Available/Adam_Kennedy/\n",
            "  inflating: Dataset_Available/Adam_Kennedy/Adam_Kennedy_0001.jpg  \n",
            "   creating: Dataset_Available/Adam_Mair/\n",
            "  inflating: Dataset_Available/Adam_Mair/Adam_Mair_0001.jpg  \n",
            "   creating: Dataset_Available/Adam_Rich/\n",
            "  inflating: Dataset_Available/Adam_Rich/Adam_Rich_0001.jpg  \n",
            "   creating: Dataset_Available/Adam_Sandler/\n",
            "  inflating: Dataset_Available/Adam_Sandler/Adam_Sandler_0001.jpg  \n",
            "  inflating: Dataset_Available/Adam_Sandler/Adam_Sandler_0002.jpg  \n",
            "  inflating: Dataset_Available/Adam_Sandler/Adam_Sandler_0003.jpg  \n",
            "  inflating: Dataset_Available/Adam_Sandler/Adam_Sandler_0004.jpg  \n",
            "   creating: Dataset_Available/Adam_Scott/\n",
            "  inflating: Dataset_Available/Adam_Scott/Adam_Scott_0001.jpg  \n",
            "  inflating: Dataset_Available/Adam_Scott/Adam_Scott_0002.jpg  \n",
            "   creating: Dataset_Available/Adel_Al-Jubeir/\n",
            "  inflating: Dataset_Available/Adel_Al-Jubeir/Adel_Al-Jubeir_0001.jpg  \n",
            "  inflating: Dataset_Available/Adel_Al-Jubeir/Adel_Al-Jubeir_0002.jpg  \n",
            "  inflating: Dataset_Available/Adel_Al-Jubeir/Adel_Al-Jubeir_0003.jpg  \n",
            "   creating: Dataset_Available/Adelina_Avila/\n",
            "  inflating: Dataset_Available/Adelina_Avila/Adelina_Avila_0001.jpg  \n",
            "   creating: Dataset_Available/Adisai_Bodharamik/\n",
            "  inflating: Dataset_Available/Adisai_Bodharamik/Adisai_Bodharamik_0001.jpg  \n",
            "   creating: Dataset_Available/Adolfo_Aguilar_Zinser/\n",
            "  inflating: Dataset_Available/Adolfo_Aguilar_Zinser/Adolfo_Aguilar_Zinser_0001.jpg  \n",
            "  inflating: Dataset_Available/Adolfo_Aguilar_Zinser/Adolfo_Aguilar_Zinser_0002.jpg  \n",
            "  inflating: Dataset_Available/Adolfo_Aguilar_Zinser/Adolfo_Aguilar_Zinser_0003.jpg  \n",
            "   creating: Dataset_Available/Adolfo_Rodriguez_Saa/\n",
            "  inflating: Dataset_Available/Adolfo_Rodriguez_Saa/Adolfo_Rodriguez_Saa_0001.jpg  \n",
            "  inflating: Dataset_Available/Adolfo_Rodriguez_Saa/Adolfo_Rodriguez_Saa_0002.jpg  \n",
            "   creating: Dataset_Available/Adoor_Gopalakarishnan/\n",
            "  inflating: Dataset_Available/Adoor_Gopalakarishnan/Adoor_Gopalakarishnan_0001.jpg  \n",
            "   creating: Dataset_Available/Adrian_Annus/\n",
            "  inflating: Dataset_Available/Adrian_Annus/Adrian_Annus_0001.jpg  \n",
            "   creating: Dataset_Available/Adrian_Fernandez/\n",
            "  inflating: Dataset_Available/Adrian_Fernandez/Adrian_Fernandez_0001.jpg  \n",
            "   creating: Dataset_Available/Adrian_McPherson/\n",
            "  inflating: Dataset_Available/Adrian_McPherson/Adrian_McPherson_0001.jpg  \n",
            "  inflating: Dataset_Available/Adrian_McPherson/Adrian_McPherson_0002.jpg  \n",
            "   creating: Dataset_Available/Adrian_Murrell/\n",
            "  inflating: Dataset_Available/Adrian_Murrell/Adrian_Murrell_0001.jpg  \n",
            "   creating: Dataset_Available/Adrian_Nastase/\n",
            "  inflating: Dataset_Available/Adrian_Nastase/Adrian_Nastase_0001.jpg  \n",
            "  inflating: Dataset_Available/Adrian_Nastase/Adrian_Nastase_0002.jpg  \n",
            "   creating: Dataset_Available/Adriana_Lima/\n",
            "  inflating: Dataset_Available/Adriana_Lima/Adriana_Lima_0001.jpg  \n",
            "   creating: Dataset_Available/Adriana_Perez_Navarro/\n",
            "  inflating: Dataset_Available/Adriana_Perez_Navarro/Adriana_Perez_Navarro_0001.jpg  \n",
            "   creating: Dataset_Available/Adrianna_Zuzic/\n",
            "  inflating: Dataset_Available/Adrianna_Zuzic/Adrianna_Zuzic_0001.jpg  \n",
            "   creating: Dataset_Available/Adrien_Brody/\n",
            "  inflating: Dataset_Available/Adrien_Brody/Adrien_Brody_0001.jpg  \n",
            "  inflating: Dataset_Available/Adrien_Brody/Adrien_Brody_0002.jpg  \n",
            "  inflating: Dataset_Available/Adrien_Brody/Adrien_Brody_0003.jpg  \n",
            "  inflating: Dataset_Available/Adrien_Brody/Adrien_Brody_0004.jpg  \n",
            "  inflating: Dataset_Available/Adrien_Brody/Adrien_Brody_0005.jpg  \n",
            "  inflating: Dataset_Available/Adrien_Brody/Adrien_Brody_0006.jpg  \n",
            "  inflating: Dataset_Available/Adrien_Brody/Adrien_Brody_0007.jpg  \n",
            "  inflating: Dataset_Available/Adrien_Brody/Adrien_Brody_0008.jpg  \n",
            "  inflating: Dataset_Available/Adrien_Brody/Adrien_Brody_0009.jpg  \n",
            "  inflating: Dataset_Available/Adrien_Brody/Adrien_Brody_0010.jpg  \n",
            "  inflating: Dataset_Available/Adrien_Brody/Adrien_Brody_0011.jpg  \n",
            "  inflating: Dataset_Available/Adrien_Brody/Adrien_Brody_0012.jpg  \n",
            "   creating: Dataset_Available/Afton_Smith/\n",
            "  inflating: Dataset_Available/Afton_Smith/Afton_Smith_0001.jpg  \n",
            "   creating: Dataset_Available/Agbani_Darego/\n",
            "  inflating: Dataset_Available/Agbani_Darego/Agbani_Darego_0001.jpg  \n",
            "   creating: Dataset_Available/Agnelo_Queiroz/\n",
            "  inflating: Dataset_Available/Agnelo_Queiroz/Agnelo_Queiroz_0001.jpg  \n",
            "   creating: Dataset_Available/Agnes_Bruckner/\n",
            "  inflating: Dataset_Available/Agnes_Bruckner/Agnes_Bruckner_0001.jpg  \n",
            "   creating: Dataset_Available/Ahmad_Jbarah/\n",
            "  inflating: Dataset_Available/Ahmad_Jbarah/Ahmad_Jbarah_0001.jpg  \n",
            "   creating: Dataset_Available/Ahmad_Masood/\n",
            "  inflating: Dataset_Available/Ahmad_Masood/Ahmad_Masood_0001.jpg  \n",
            "  inflating: Dataset_Available/Ahmad_Masood/Ahmad_Masood_0002.jpg  \n",
            "   creating: Dataset_Available/Ahmed_Ahmed/\n",
            "  inflating: Dataset_Available/Ahmed_Ahmed/Ahmed_Ahmed_0001.jpg  \n",
            "   creating: Dataset_Available/Ahmed_Chalabi/\n",
            "  inflating: Dataset_Available/Ahmed_Chalabi/Ahmed_Chalabi_0001.jpg  \n",
            "  inflating: Dataset_Available/Ahmed_Chalabi/Ahmed_Chalabi_0002.jpg  \n",
            "  inflating: Dataset_Available/Ahmed_Chalabi/Ahmed_Chalabi_0003.jpg  \n",
            "  inflating: Dataset_Available/Ahmed_Chalabi/Ahmed_Chalabi_0004.jpg  \n",
            "  inflating: Dataset_Available/Ahmed_Chalabi/Ahmed_Chalabi_0005.jpg  \n",
            "   creating: Dataset_Available/Ahmed_Ghazi/\n",
            "  inflating: Dataset_Available/Ahmed_Ghazi/Ahmed_Ghazi_0001.jpg  \n",
            "   creating: Dataset_Available/Ahmed_Ibrahim_Bilal/\n",
            "  inflating: Dataset_Available/Ahmed_Ibrahim_Bilal/Ahmed_Ibrahim_Bilal_0001.jpg  \n",
            "   creating: Dataset_Available/Ahmed_Lopez/\n",
            "  inflating: Dataset_Available/Ahmed_Lopez/Ahmed_Lopez_0001.jpg  \n",
            "   creating: Dataset_Available/Ahmed_Qureia/\n",
            "  inflating: Dataset_Available/Ahmed_Qureia/Ahmed_Qureia_0001.jpg  \n",
            "   creating: Dataset_Available/Ahmet_Demir/\n",
            "  inflating: Dataset_Available/Ahmet_Demir/Ahmet_Demir_0001.jpg  \n",
            "   creating: Dataset_Available/Ahmet_Necdet_Sezer/\n",
            "  inflating: Dataset_Available/Ahmet_Necdet_Sezer/Ahmet_Necdet_Sezer_0001.jpg  \n",
            "  inflating: Dataset_Available/Ahmet_Necdet_Sezer/Ahmet_Necdet_Sezer_0002.jpg  \n",
            "   creating: Dataset_Available/Ai_Sugiyama/\n",
            "  inflating: Dataset_Available/Ai_Sugiyama/Ai_Sugiyama_0001.jpg  \n",
            "  inflating: Dataset_Available/Ai_Sugiyama/Ai_Sugiyama_0002.jpg  \n",
            "  inflating: Dataset_Available/Ai_Sugiyama/Ai_Sugiyama_0003.jpg  \n",
            "  inflating: Dataset_Available/Ai_Sugiyama/Ai_Sugiyama_0004.jpg  \n",
            "  inflating: Dataset_Available/Ai_Sugiyama/Ai_Sugiyama_0005.jpg  \n",
            "   creating: Dataset_Available/Aicha_El_Ouafi/\n",
            "  inflating: Dataset_Available/Aicha_El_Ouafi/Aicha_El_Ouafi_0001.jpg  \n",
            "  inflating: Dataset_Available/Aicha_El_Ouafi/Aicha_El_Ouafi_0002.jpg  \n",
            "  inflating: Dataset_Available/Aicha_El_Ouafi/Aicha_El_Ouafi_0003.jpg  \n",
            "   creating: Dataset_Available/Aidan_Quinn/\n",
            "  inflating: Dataset_Available/Aidan_Quinn/Aidan_Quinn_0001.jpg  \n",
            "   creating: Dataset_Available/Aileen_Riggin_Soule/\n",
            "  inflating: Dataset_Available/Aileen_Riggin_Soule/Aileen_Riggin_Soule_0001.jpg  \n",
            "   creating: Dataset_Available/Ain_Seppik/\n",
            "  inflating: Dataset_Available/Ain_Seppik/Ain_Seppik_0001.jpg  \n",
            "   creating: Dataset_Available/Ainsworth_Dyer/\n",
            "  inflating: Dataset_Available/Ainsworth_Dyer/Ainsworth_Dyer_0001.jpg  \n",
            "   creating: Dataset_Available/Aishwarya_Rai/\n",
            "  inflating: Dataset_Available/Aishwarya_Rai/Aishwarya_Rai_0001.jpg  \n",
            "   creating: Dataset_Available/Aitor_Gonzalez/\n",
            "  inflating: Dataset_Available/Aitor_Gonzalez/Aitor_Gonzalez_0001.jpg  \n",
            "  inflating: Dataset_Available/Aitor_Gonzalez/Aitor_Gonzalez_0002.jpg  \n",
            "   creating: Dataset_Available/Aiysha_Smith/\n",
            "  inflating: Dataset_Available/Aiysha_Smith/Aiysha_Smith_0001.jpg  \n",
            "   creating: Dataset_Available/AJ_Cook/\n",
            "  inflating: Dataset_Available/AJ_Cook/AJ_Cook_0001.jpg  \n",
            "   creating: Dataset_Available/AJ_Lamas/\n",
            "  inflating: Dataset_Available/AJ_Lamas/AJ_Lamas_0001.jpg  \n",
            "   creating: Dataset_Available/Ajit_Agarkar/\n",
            "  inflating: Dataset_Available/Ajit_Agarkar/Ajit_Agarkar_0001.jpg  \n",
            "   creating: Dataset_Available/Akbar_Al_Baker/\n",
            "  inflating: Dataset_Available/Akbar_Al_Baker/Akbar_Al_Baker_0001.jpg  \n",
            "   creating: Dataset_Available/Akbar_Hashemi_Rafsanjani/\n",
            "  inflating: Dataset_Available/Akbar_Hashemi_Rafsanjani/Akbar_Hashemi_Rafsanjani_0001.jpg  \n",
            "  inflating: Dataset_Available/Akbar_Hashemi_Rafsanjani/Akbar_Hashemi_Rafsanjani_0002.jpg  \n",
            "  inflating: Dataset_Available/Akbar_Hashemi_Rafsanjani/Akbar_Hashemi_Rafsanjani_0003.jpg  \n",
            "   creating: Dataset_Available/Akhmed_Zakayev/\n",
            "  inflating: Dataset_Available/Akhmed_Zakayev/Akhmed_Zakayev_0001.jpg  \n",
            "  inflating: Dataset_Available/Akhmed_Zakayev/Akhmed_Zakayev_0002.jpg  \n",
            "  inflating: Dataset_Available/Akhmed_Zakayev/Akhmed_Zakayev_0003.jpg  \n",
            "   creating: Dataset_Available/Akiko_Morigami/\n",
            "  inflating: Dataset_Available/Akiko_Morigami/Akiko_Morigami_0001.jpg  \n",
            "   creating: Dataset_Available/Akmal_Taher/\n",
            "  inflating: Dataset_Available/Akmal_Taher/Akmal_Taher_0001.jpg  \n",
            "   creating: Dataset_Available/Al_Cardenas/\n",
            "  inflating: Dataset_Available/Al_Cardenas/Al_Cardenas_0001.jpg  \n",
            "   creating: Dataset_Available/Al_Davis/\n",
            "  inflating: Dataset_Available/Al_Davis/Al_Davis_0001.jpg  \n",
            "  inflating: Dataset_Available/Al_Davis/Al_Davis_0002.jpg  \n",
            "   creating: Dataset_Available/Al_Gore/\n",
            "  inflating: Dataset_Available/Al_Gore/Al_Gore_0001.jpg  \n",
            "  inflating: Dataset_Available/Al_Gore/Al_Gore_0002.jpg  \n",
            "  inflating: Dataset_Available/Al_Gore/Al_Gore_0003.jpg  \n",
            "  inflating: Dataset_Available/Al_Gore/Al_Gore_0004.jpg  \n",
            "  inflating: Dataset_Available/Al_Gore/Al_Gore_0005.jpg  \n",
            "  inflating: Dataset_Available/Al_Gore/Al_Gore_0006.jpg  \n",
            "  inflating: Dataset_Available/Al_Gore/Al_Gore_0007.jpg  \n",
            "  inflating: Dataset_Available/Al_Gore/Al_Gore_0008.jpg  \n",
            "   creating: Dataset_Available/Al_Leiter/\n",
            "  inflating: Dataset_Available/Al_Leiter/Al_Leiter_0001.jpg  \n",
            "   creating: Dataset_Available/Al_Pacino/\n",
            "  inflating: Dataset_Available/Al_Pacino/Al_Pacino_0001.jpg  \n",
            "  inflating: Dataset_Available/Al_Pacino/Al_Pacino_0002.jpg  \n",
            "  inflating: Dataset_Available/Al_Pacino/Al_Pacino_0003.jpg  \n",
            "   creating: Dataset_Available/Al_Sharpton/\n",
            "  inflating: Dataset_Available/Al_Sharpton/Al_Sharpton_0001.jpg  \n",
            "  inflating: Dataset_Available/Al_Sharpton/Al_Sharpton_0002.jpg  \n",
            "  inflating: Dataset_Available/Al_Sharpton/Al_Sharpton_0003.jpg  \n",
            "  inflating: Dataset_Available/Al_Sharpton/Al_Sharpton_0004.jpg  \n",
            "  inflating: Dataset_Available/Al_Sharpton/Al_Sharpton_0005.jpg  \n",
            "  inflating: Dataset_Available/Al_Sharpton/Al_Sharpton_0006.jpg  \n",
            "  inflating: Dataset_Available/Al_Sharpton/Al_Sharpton_0007.jpg  \n",
            "   creating: Dataset_Available/Alain_Cervantes/\n",
            "  inflating: Dataset_Available/Alain_Cervantes/Alain_Cervantes_0001.jpg  \n",
            "   creating: Dataset_Available/Alain_Ducasse/\n",
            "  inflating: Dataset_Available/Alain_Ducasse/Alain_Ducasse_0001.jpg  \n",
            "   creating: Dataset_Available/Alan_Ball/\n",
            "  inflating: Dataset_Available/Alan_Ball/Alan_Ball_0001.jpg  \n",
            "  inflating: Dataset_Available/Alan_Ball/Alan_Ball_0002.jpg  \n",
            "   creating: Dataset_Available/Alan_Dershowitz/\n",
            "  inflating: Dataset_Available/Alan_Dershowitz/Alan_Dershowitz_0001.jpg  \n",
            "   creating: Dataset_Available/Alan_Dreher/\n",
            "  inflating: Dataset_Available/Alan_Dreher/Alan_Dreher_0001.jpg  \n",
            "   creating: Dataset_Available/Alan_Greenspan/\n",
            "  inflating: Dataset_Available/Alan_Greenspan/Alan_Greenspan_0001.jpg  \n",
            "  inflating: Dataset_Available/Alan_Greenspan/Alan_Greenspan_0002.jpg  \n",
            "  inflating: Dataset_Available/Alan_Greenspan/Alan_Greenspan_0003.jpg  \n",
            "  inflating: Dataset_Available/Alan_Greenspan/Alan_Greenspan_0004.jpg  \n",
            "  inflating: Dataset_Available/Alan_Greenspan/Alan_Greenspan_0005.jpg  \n",
            "   creating: Dataset_Available/Alan_Greer/\n",
            "  inflating: Dataset_Available/Alan_Greer/Alan_Greer_0001.jpg  \n",
            "   creating: Dataset_Available/Alan_Jackson/\n",
            "  inflating: Dataset_Available/Alan_Jackson/Alan_Jackson_0001.jpg  \n",
            "   creating: Dataset_Available/Alan_Mulally/\n",
            "  inflating: Dataset_Available/Alan_Mulally/Alan_Mulally_0001.jpg  \n",
            "  inflating: Dataset_Available/Alan_Mulally/Alan_Mulally_0002.jpg  \n",
            "   creating: Dataset_Available/Alan_Stonecipher/\n",
            "  inflating: Dataset_Available/Alan_Stonecipher/Alan_Stonecipher_0001.jpg  \n",
            "   creating: Dataset_Available/Alan_Tang_Kwong-wing/\n",
            "  inflating: Dataset_Available/Alan_Tang_Kwong-wing/Alan_Tang_Kwong-wing_0001.jpg  \n",
            "   creating: Dataset_Available/Alan_Trammell/\n",
            "  inflating: Dataset_Available/Alan_Trammell/Alan_Trammell_0001.jpg  \n",
            "   creating: Dataset_Available/Alan_Zemaitis/\n",
            "  inflating: Dataset_Available/Alan_Zemaitis/Alan_Zemaitis_0001.jpg  \n",
            "   creating: Dataset_Available/Alanis_Morissette/\n",
            "  inflating: Dataset_Available/Alanis_Morissette/Alanis_Morissette_0001.jpg  \n",
            "   creating: Dataset_Available/Alanna_Ubach/\n",
            "  inflating: Dataset_Available/Alanna_Ubach/Alanna_Ubach_0001.jpg  \n",
            "   creating: Dataset_Available/Alastair_Campbell/\n",
            "  inflating: Dataset_Available/Alastair_Campbell/Alastair_Campbell_0001.jpg  \n",
            "  inflating: Dataset_Available/Alastair_Campbell/Alastair_Campbell_0002.jpg  \n",
            "  inflating: Dataset_Available/Alastair_Campbell/Alastair_Campbell_0003.jpg  \n",
            "  inflating: Dataset_Available/Alastair_Campbell/Alastair_Campbell_0004.jpg  \n",
            "  inflating: Dataset_Available/Alastair_Campbell/Alastair_Campbell_0005.jpg  \n",
            "   creating: Dataset_Available/Alastair_Johnston/\n",
            "  inflating: Dataset_Available/Alastair_Johnston/Alastair_Johnston_0001.jpg  \n",
            "   creating: Dataset_Available/Albaro_Recoba/\n",
            "  inflating: Dataset_Available/Albaro_Recoba/Albaro_Recoba_0001.jpg  \n",
            "   creating: Dataset_Available/Albert_Brooks/\n",
            "  inflating: Dataset_Available/Albert_Brooks/Albert_Brooks_0001.jpg  \n",
            "   creating: Dataset_Available/Albert_Costa/\n",
            "  inflating: Dataset_Available/Albert_Costa/Albert_Costa_0001.jpg  \n",
            "  inflating: Dataset_Available/Albert_Costa/Albert_Costa_0002.jpg  \n",
            "  inflating: Dataset_Available/Albert_Costa/Albert_Costa_0003.jpg  \n",
            "  inflating: Dataset_Available/Albert_Costa/Albert_Costa_0004.jpg  \n",
            "  inflating: Dataset_Available/Albert_Costa/Albert_Costa_0005.jpg  \n",
            "  inflating: Dataset_Available/Albert_Costa/Albert_Costa_0006.jpg  \n",
            "   creating: Dataset_Available/Albert_Montanes/\n",
            "  inflating: Dataset_Available/Albert_Montanes/Albert_Montanes_0001.jpg  \n",
            "   creating: Dataset_Available/Albert_Pujols/\n",
            "  inflating: Dataset_Available/Albert_Pujols/Albert_Pujols_0001.jpg  \n",
            "   creating: Dataset_Available/Alberta_Lee/\n",
            "  inflating: Dataset_Available/Alberta_Lee/Alberta_Lee_0001.jpg  \n",
            "   creating: Dataset_Available/Alberto_Acosta/\n",
            "  inflating: Dataset_Available/Alberto_Acosta/Alberto_Acosta_0001.jpg  \n",
            "   creating: Dataset_Available/Alberto_Fujimori/\n",
            "  inflating: Dataset_Available/Alberto_Fujimori/Alberto_Fujimori_0001.jpg  \n",
            "  inflating: Dataset_Available/Alberto_Fujimori/Alberto_Fujimori_0002.jpg  \n",
            "   creating: Dataset_Available/Alberto_Gonzales/\n",
            "  inflating: Dataset_Available/Alberto_Gonzales/Alberto_Gonzales_0001.jpg  \n",
            "   creating: Dataset_Available/Alberto_Ruiz_Gallardon/\n",
            "  inflating: Dataset_Available/Alberto_Ruiz_Gallardon/Alberto_Ruiz_Gallardon_0001.jpg  \n",
            "  inflating: Dataset_Available/Alberto_Ruiz_Gallardon/Alberto_Ruiz_Gallardon_0002.jpg  \n",
            "   creating: Dataset_Available/Alberto_Sordi/\n",
            "  inflating: Dataset_Available/Alberto_Sordi/Alberto_Sordi_0001.jpg  \n",
            "   creating: Dataset_Available/Albrecht_Mentz/\n",
            "  inflating: Dataset_Available/Albrecht_Mentz/Albrecht_Mentz_0001.jpg  \n",
            "  inflating: Dataset_Available/Albrecht_Mentz/Albrecht_Mentz_0002.jpg  \n",
            "   creating: Dataset_Available/Aldo_Paredes/\n",
            "  inflating: Dataset_Available/Aldo_Paredes/Aldo_Paredes_0001.jpg  \n",
            "  inflating: Dataset_Available/Aldo_Paredes/Aldo_Paredes_0002.jpg  \n",
            "   creating: Dataset_Available/Alec_Baldwin/\n",
            "  inflating: Dataset_Available/Alec_Baldwin/Alec_Baldwin_0001.jpg  \n",
            "  inflating: Dataset_Available/Alec_Baldwin/Alec_Baldwin_0002.jpg  \n",
            "  inflating: Dataset_Available/Alec_Baldwin/Alec_Baldwin_0003.jpg  \n",
            "  inflating: Dataset_Available/Alec_Baldwin/Alec_Baldwin_0004.jpg  \n",
            "   creating: Dataset_Available/Alecos_Markides/\n",
            "  inflating: Dataset_Available/Alecos_Markides/Alecos_Markides_0001.jpg  \n",
            "   creating: Dataset_Available/Alejandro_Atchugarry/\n",
            "  inflating: Dataset_Available/Alejandro_Atchugarry/Alejandro_Atchugarry_0001.jpg  \n",
            "  inflating: Dataset_Available/Alejandro_Atchugarry/Alejandro_Atchugarry_0002.jpg  \n",
            "   creating: Dataset_Available/Alejandro_Avila/\n",
            "  inflating: Dataset_Available/Alejandro_Avila/Alejandro_Avila_0001.jpg  \n",
            "  inflating: Dataset_Available/Alejandro_Avila/Alejandro_Avila_0002.jpg  \n",
            "  inflating: Dataset_Available/Alejandro_Avila/Alejandro_Avila_0003.jpg  \n",
            "   creating: Dataset_Available/Alejandro_Fernandez/\n",
            "  inflating: Dataset_Available/Alejandro_Fernandez/Alejandro_Fernandez_0001.jpg  \n",
            "   creating: Dataset_Available/Alejandro_Gonzalez_Inarritu/\n",
            "  inflating: Dataset_Available/Alejandro_Gonzalez_Inarritu/Alejandro_Gonzalez_Inarritu_0001.jpg  \n",
            "   creating: Dataset_Available/Alejandro_Lembo/\n",
            "  inflating: Dataset_Available/Alejandro_Lembo/Alejandro_Lembo_0001.jpg  \n",
            "   creating: Dataset_Available/Alejandro_Lerner/\n",
            "  inflating: Dataset_Available/Alejandro_Lerner/Alejandro_Lerner_0001.jpg  \n",
            "   creating: Dataset_Available/Alejandro_Lopez/\n",
            "  inflating: Dataset_Available/Alejandro_Lopez/Alejandro_Lopez_0001.jpg  \n",
            "   creating: Dataset_Available/Alejandro_Toledo/\n",
            "  inflating: Dataset_Available/Alejandro_Toledo/Alejandro_Toledo_0001.jpg  \n",
            "  inflating: Dataset_Available/Alejandro_Toledo/Alejandro_Toledo_0002.jpg  \n",
            "  inflating: Dataset_Available/Alejandro_Toledo/Alejandro_Toledo_0003.jpg  \n",
            "  inflating: Dataset_Available/Alejandro_Toledo/Alejandro_Toledo_0004.jpg  \n",
            "  inflating: Dataset_Available/Alejandro_Toledo/Alejandro_Toledo_0005.jpg  \n",
            "  inflating: Dataset_Available/Alejandro_Toledo/Alejandro_Toledo_0006.jpg  \n",
            "  inflating: Dataset_Available/Alejandro_Toledo/Alejandro_Toledo_0007.jpg  \n",
            "  inflating: Dataset_Available/Alejandro_Toledo/Alejandro_Toledo_0008.jpg  \n",
            "  inflating: Dataset_Available/Alejandro_Toledo/Alejandro_Toledo_0009.jpg  \n",
            "  inflating: Dataset_Available/Alejandro_Toledo/Alejandro_Toledo_0010.jpg  \n",
            "  inflating: Dataset_Available/Alejandro_Toledo/Alejandro_Toledo_0011.jpg  \n",
            "  inflating: Dataset_Available/Alejandro_Toledo/Alejandro_Toledo_0012.jpg  \n",
            "  inflating: Dataset_Available/Alejandro_Toledo/Alejandro_Toledo_0013.jpg  \n",
            "  inflating: Dataset_Available/Alejandro_Toledo/Alejandro_Toledo_0014.jpg  \n",
            "  inflating: Dataset_Available/Alejandro_Toledo/Alejandro_Toledo_0015.jpg  \n",
            "  inflating: Dataset_Available/Alejandro_Toledo/Alejandro_Toledo_0016.jpg  \n",
            "  inflating: Dataset_Available/Alejandro_Toledo/Alejandro_Toledo_0017.jpg  \n",
            "  inflating: Dataset_Available/Alejandro_Toledo/Alejandro_Toledo_0018.jpg  \n",
            "  inflating: Dataset_Available/Alejandro_Toledo/Alejandro_Toledo_0019.jpg  \n",
            "  inflating: Dataset_Available/Alejandro_Toledo/Alejandro_Toledo_0020.jpg  \n",
            "  inflating: Dataset_Available/Alejandro_Toledo/Alejandro_Toledo_0021.jpg  \n",
            "  inflating: Dataset_Available/Alejandro_Toledo/Alejandro_Toledo_0022.jpg  \n",
            "  inflating: Dataset_Available/Alejandro_Toledo/Alejandro_Toledo_0023.jpg  \n",
            "  inflating: Dataset_Available/Alejandro_Toledo/Alejandro_Toledo_0024.jpg  \n",
            "  inflating: Dataset_Available/Alejandro_Toledo/Alejandro_Toledo_0025.jpg  \n",
            "  inflating: Dataset_Available/Alejandro_Toledo/Alejandro_Toledo_0026.jpg  \n",
            "  inflating: Dataset_Available/Alejandro_Toledo/Alejandro_Toledo_0027.jpg  \n",
            "  inflating: Dataset_Available/Alejandro_Toledo/Alejandro_Toledo_0028.jpg  \n",
            "  inflating: Dataset_Available/Alejandro_Toledo/Alejandro_Toledo_0029.jpg  \n",
            "  inflating: Dataset_Available/Alejandro_Toledo/Alejandro_Toledo_0030.jpg  \n",
            "  inflating: Dataset_Available/Alejandro_Toledo/Alejandro_Toledo_0031.jpg  \n",
            "  inflating: Dataset_Available/Alejandro_Toledo/Alejandro_Toledo_0032.jpg  \n",
            "  inflating: Dataset_Available/Alejandro_Toledo/Alejandro_Toledo_0033.jpg  \n",
            "  inflating: Dataset_Available/Alejandro_Toledo/Alejandro_Toledo_0034.jpg  \n",
            "  inflating: Dataset_Available/Alejandro_Toledo/Alejandro_Toledo_0035.jpg  \n",
            "  inflating: Dataset_Available/Alejandro_Toledo/Alejandro_Toledo_0036.jpg  \n",
            "  inflating: Dataset_Available/Alejandro_Toledo/Alejandro_Toledo_0037.jpg  \n",
            "  inflating: Dataset_Available/Alejandro_Toledo/Alejandro_Toledo_0038.jpg  \n",
            "  inflating: Dataset_Available/Alejandro_Toledo/Alejandro_Toledo_0039.jpg  \n",
            "   creating: Dataset_Available/Alek_Wek/\n",
            "  inflating: Dataset_Available/Alek_Wek/Alek_Wek_0001.jpg  \n",
            "   creating: Dataset_Available/Aleksander_Kwasniewski/\n",
            "  inflating: Dataset_Available/Aleksander_Kwasniewski/Aleksander_Kwasniewski_0001.jpg  \n",
            "  inflating: Dataset_Available/Aleksander_Kwasniewski/Aleksander_Kwasniewski_0002.jpg  \n",
            "  inflating: Dataset_Available/Aleksander_Kwasniewski/Aleksander_Kwasniewski_0003.jpg  \n",
            "  inflating: Dataset_Available/Aleksander_Kwasniewski/Aleksander_Kwasniewski_0004.jpg  \n",
            "   creating: Dataset_Available/Aleksander_Voloshin/\n",
            "  inflating: Dataset_Available/Aleksander_Voloshin/Aleksander_Voloshin_0001.jpg  \n",
            "   creating: Dataset_Available/Alessandra_Cerna/\n",
            "  inflating: Dataset_Available/Alessandra_Cerna/Alessandra_Cerna_0001.jpg  \n",
            "   creating: Dataset_Available/Alessandro_Nesta/\n",
            "  inflating: Dataset_Available/Alessandro_Nesta/Alessandro_Nesta_0001.jpg  \n",
            "   creating: Dataset_Available/Alex_Barros/\n",
            "  inflating: Dataset_Available/Alex_Barros/Alex_Barros_0001.jpg  \n",
            "  inflating: Dataset_Available/Alex_Barros/Alex_Barros_0002.jpg  \n",
            "   creating: Dataset_Available/Alex_Cabrera/\n",
            "  inflating: Dataset_Available/Alex_Cabrera/Alex_Cabrera_0001.jpg  \n",
            "   creating: Dataset_Available/Alex_Cejka/\n",
            "  inflating: Dataset_Available/Alex_Cejka/Alex_Cejka_0001.jpg  \n",
            "   creating: Dataset_Available/Alex_Corretja/\n",
            "  inflating: Dataset_Available/Alex_Corretja/Alex_Corretja_0001.jpg  \n",
            "   creating: Dataset_Available/Alex_Ferguson/\n",
            "  inflating: Dataset_Available/Alex_Ferguson/Alex_Ferguson_0001.jpg  \n",
            "   creating: Dataset_Available/Alex_Gonzalez/\n",
            "  inflating: Dataset_Available/Alex_Gonzalez/Alex_Gonzalez_0001.jpg  \n",
            "   creating: Dataset_Available/Alex_Holmes/\n",
            "  inflating: Dataset_Available/Alex_Holmes/Alex_Holmes_0001.jpg  \n",
            "   creating: Dataset_Available/Alex_King/\n",
            "  inflating: Dataset_Available/Alex_King/Alex_King_0001.jpg  \n",
            "   creating: Dataset_Available/Alex_Penelas/\n",
            "  inflating: Dataset_Available/Alex_Penelas/Alex_Penelas_0001.jpg  \n",
            "  inflating: Dataset_Available/Alex_Penelas/Alex_Penelas_0002.jpg  \n",
            "   creating: Dataset_Available/Alex_Popov/\n",
            "  inflating: Dataset_Available/Alex_Popov/Alex_Popov_0001.jpg  \n",
            "   creating: Dataset_Available/Alex_Sink/\n",
            "  inflating: Dataset_Available/Alex_Sink/Alex_Sink_0001.jpg  \n",
            "  inflating: Dataset_Available/Alex_Sink/Alex_Sink_0002.jpg  \n",
            "  inflating: Dataset_Available/Alex_Sink/Alex_Sink_0003.jpg  \n",
            "   creating: Dataset_Available/Alex_Wallau/\n",
            "  inflating: Dataset_Available/Alex_Wallau/Alex_Wallau_0001.jpg  \n",
            "   creating: Dataset_Available/Alex_Zanardi/\n",
            "  inflating: Dataset_Available/Alex_Zanardi/Alex_Zanardi_0001.jpg  \n",
            "   creating: Dataset_Available/Alexa_Loren/\n",
            "  inflating: Dataset_Available/Alexa_Loren/Alexa_Loren_0001.jpg  \n",
            "   creating: Dataset_Available/Alexa_Vega/\n",
            "  inflating: Dataset_Available/Alexa_Vega/Alexa_Vega_0001.jpg  \n",
            "   creating: Dataset_Available/Alexander_Downer/\n",
            "  inflating: Dataset_Available/Alexander_Downer/Alexander_Downer_0001.jpg  \n",
            "  inflating: Dataset_Available/Alexander_Downer/Alexander_Downer_0002.jpg  \n",
            "  inflating: Dataset_Available/Alexander_Downer/Alexander_Downer_0003.jpg  \n",
            "  inflating: Dataset_Available/Alexander_Downer/Alexander_Downer_0004.jpg  \n",
            "   creating: Dataset_Available/Alexander_Losyukov/\n",
            "  inflating: Dataset_Available/Alexander_Losyukov/Alexander_Losyukov_0001.jpg  \n",
            "  inflating: Dataset_Available/Alexander_Losyukov/Alexander_Losyukov_0002.jpg  \n",
            "  inflating: Dataset_Available/Alexander_Losyukov/Alexander_Losyukov_0003.jpg  \n",
            "  inflating: Dataset_Available/Alexander_Losyukov/Alexander_Losyukov_0004.jpg  \n",
            "   creating: Dataset_Available/Alexander_Lukashenko/\n",
            "  inflating: Dataset_Available/Alexander_Lukashenko/Alexander_Lukashenko_0001.jpg  \n",
            "   creating: Dataset_Available/Alexander_Payne/\n",
            "  inflating: Dataset_Available/Alexander_Payne/Alexander_Payne_0001.jpg  \n",
            "   creating: Dataset_Available/Alexander_Rumyantsev/\n",
            "  inflating: Dataset_Available/Alexander_Rumyantsev/Alexander_Rumyantsev_0001.jpg  \n",
            "  inflating: Dataset_Available/Alexander_Rumyantsev/Alexander_Rumyantsev_0002.jpg  \n",
            "   creating: Dataset_Available/Alexandra_Jackson/\n",
            "  inflating: Dataset_Available/Alexandra_Jackson/Alexandra_Jackson_0001.jpg  \n",
            "   creating: Dataset_Available/Alexandra_Pelosi/\n",
            "  inflating: Dataset_Available/Alexandra_Pelosi/Alexandra_Pelosi_0001.jpg  \n",
            "   creating: Dataset_Available/Alexandra_Rozovskaya/\n",
            "  inflating: Dataset_Available/Alexandra_Rozovskaya/Alexandra_Rozovskaya_0001.jpg  \n",
            "   creating: Dataset_Available/Alexandra_Spann/\n",
            "  inflating: Dataset_Available/Alexandra_Spann/Alexandra_Spann_0001.jpg  \n",
            "   creating: Dataset_Available/Alexandra_Stevenson/\n",
            "  inflating: Dataset_Available/Alexandra_Stevenson/Alexandra_Stevenson_0001.jpg  \n",
            "  inflating: Dataset_Available/Alexandra_Stevenson/Alexandra_Stevenson_0002.jpg  \n",
            "  inflating: Dataset_Available/Alexandra_Stevenson/Alexandra_Stevenson_0003.jpg  \n",
            "   creating: Dataset_Available/Alexandra_Vodjanikova/\n",
            "  inflating: Dataset_Available/Alexandra_Vodjanikova/Alexandra_Vodjanikova_0001.jpg  \n",
            "  inflating: Dataset_Available/Alexandra_Vodjanikova/Alexandra_Vodjanikova_0002.jpg  \n",
            "   creating: Dataset_Available/Alexandre_Daigle/\n",
            "  inflating: Dataset_Available/Alexandre_Daigle/Alexandre_Daigle_0001.jpg  \n",
            "   creating: Dataset_Available/Alexandre_Despatie/\n",
            "  inflating: Dataset_Available/Alexandre_Despatie/Alexandre_Despatie_0001.jpg  \n",
            "   creating: Dataset_Available/Alexandre_Herchcovitch/\n",
            "  inflating: Dataset_Available/Alexandre_Herchcovitch/Alexandre_Herchcovitch_0001.jpg  \n",
            "   creating: Dataset_Available/Alexandre_Vinokourov/\n",
            "  inflating: Dataset_Available/Alexandre_Vinokourov/Alexandre_Vinokourov_0001.jpg  \n",
            "   creating: Dataset_Available/Alexis_Bledel/\n",
            "  inflating: Dataset_Available/Alexis_Bledel/Alexis_Bledel_0001.jpg  \n",
            "   creating: Dataset_Available/Alexis_Dennisoff/\n",
            "  inflating: Dataset_Available/Alexis_Dennisoff/Alexis_Dennisoff_0001.jpg  \n",
            "   creating: Dataset_Available/Alfonso_Cuaron/\n",
            "  inflating: Dataset_Available/Alfonso_Cuaron/Alfonso_Cuaron_0001.jpg  \n",
            "   creating: Dataset_Available/Alfonso_Portillo/\n",
            "  inflating: Dataset_Available/Alfonso_Portillo/Alfonso_Portillo_0001.jpg  \n",
            "   creating: Dataset_Available/Alfonso_Soriano/\n",
            "  inflating: Dataset_Available/Alfonso_Soriano/Alfonso_Soriano_0001.jpg  \n",
            "   creating: Dataset_Available/Alfred_Ford/\n",
            "  inflating: Dataset_Available/Alfred_Ford/Alfred_Ford_0001.jpg  \n",
            "   creating: Dataset_Available/Alfred_Sant/\n",
            "  inflating: Dataset_Available/Alfred_Sant/Alfred_Sant_0001.jpg  \n",
            "   creating: Dataset_Available/Alfredo_di_Stefano/\n",
            "  inflating: Dataset_Available/Alfredo_di_Stefano/Alfredo_di_Stefano_0001.jpg  \n",
            "   creating: Dataset_Available/Alfredo_Moreno/\n",
            "  inflating: Dataset_Available/Alfredo_Moreno/Alfredo_Moreno_0001.jpg  \n",
            "   creating: Dataset_Available/Alfredo_Pena/\n",
            "  inflating: Dataset_Available/Alfredo_Pena/Alfredo_Pena_0001.jpg  \n",
            "   creating: Dataset_Available/Ali_Abbas/\n",
            "  inflating: Dataset_Available/Ali_Abbas/Ali_Abbas_0001.jpg  \n",
            "  inflating: Dataset_Available/Ali_Abbas/Ali_Abbas_0002.jpg  \n",
            "   creating: Dataset_Available/Ali_Abdullah_Saleh/\n",
            "  inflating: Dataset_Available/Ali_Abdullah_Saleh/Ali_Abdullah_Saleh_0001.jpg  \n",
            "   creating: Dataset_Available/Ali_Adbul_Karim_Madani/\n",
            "  inflating: Dataset_Available/Ali_Adbul_Karim_Madani/Ali_Adbul_Karim_Madani_0001.jpg  \n",
            "   creating: Dataset_Available/Ali_Ahmeti/\n",
            "  inflating: Dataset_Available/Ali_Ahmeti/Ali_Ahmeti_0001.jpg  \n",
            "   creating: Dataset_Available/Ali_Bin_Hussein/\n",
            "  inflating: Dataset_Available/Ali_Bin_Hussein/Ali_Bin_Hussein_0001.jpg  \n",
            "   creating: Dataset_Available/Ali_Fallahian/\n",
            "  inflating: Dataset_Available/Ali_Fallahian/Ali_Fallahian_0001.jpg  \n",
            "   creating: Dataset_Available/Ali_Hammoud/\n",
            "  inflating: Dataset_Available/Ali_Hammoud/Ali_Hammoud_0001.jpg  \n",
            "   creating: Dataset_Available/Ali_Khamenei/\n",
            "  inflating: Dataset_Available/Ali_Khamenei/Ali_Khamenei_0001.jpg  \n",
            "  inflating: Dataset_Available/Ali_Khamenei/Ali_Khamenei_0002.jpg  \n",
            "  inflating: Dataset_Available/Ali_Khamenei/Ali_Khamenei_0003.jpg  \n",
            "   creating: Dataset_Available/Ali_Mohammed_Maher/\n",
            "  inflating: Dataset_Available/Ali_Mohammed_Maher/Ali_Mohammed_Maher_0001.jpg  \n",
            "   creating: Dataset_Available/Ali_Naimi/\n",
            "  inflating: Dataset_Available/Ali_Naimi/Ali_Naimi_0001.jpg  \n",
            "  inflating: Dataset_Available/Ali_Naimi/Ali_Naimi_0002.jpg  \n",
            "  inflating: Dataset_Available/Ali_Naimi/Ali_Naimi_0003.jpg  \n",
            "  inflating: Dataset_Available/Ali_Naimi/Ali_Naimi_0004.jpg  \n",
            "  inflating: Dataset_Available/Ali_Naimi/Ali_Naimi_0005.jpg  \n",
            "  inflating: Dataset_Available/Ali_Naimi/Ali_Naimi_0006.jpg  \n",
            "  inflating: Dataset_Available/Ali_Naimi/Ali_Naimi_0007.jpg  \n",
            "  inflating: Dataset_Available/Ali_Naimi/Ali_Naimi_0008.jpg  \n",
            "   creating: Dataset_Available/Alice_Fisher/\n",
            "  inflating: Dataset_Available/Alice_Fisher/Alice_Fisher_0001.jpg  \n",
            "  inflating: Dataset_Available/Alice_Fisher/Alice_Fisher_0002.jpg  \n",
            "   creating: Dataset_Available/Alicia_Hollowell/\n",
            "  inflating: Dataset_Available/Alicia_Hollowell/Alicia_Hollowell_0001.jpg  \n",
            "   creating: Dataset_Available/Alicia_Keys/\n",
            "  inflating: Dataset_Available/Alicia_Keys/Alicia_Keys_0001.jpg  \n",
            "   creating: Dataset_Available/Alicia_Molik/\n",
            "  inflating: Dataset_Available/Alicia_Molik/Alicia_Molik_0001.jpg  \n",
            "   creating: Dataset_Available/Alicia_Silverstone/\n",
            "  inflating: Dataset_Available/Alicia_Silverstone/Alicia_Silverstone_0001.jpg  \n",
            "  inflating: Dataset_Available/Alicia_Silverstone/Alicia_Silverstone_0002.jpg  \n",
            "   creating: Dataset_Available/Alicia_Witt/\n",
            "  inflating: Dataset_Available/Alicia_Witt/Alicia_Witt_0001.jpg  \n",
            "   creating: Dataset_Available/Alimzhan_Tokhtakhounov/\n",
            "  inflating: Dataset_Available/Alimzhan_Tokhtakhounov/Alimzhan_Tokhtakhounov_0001.jpg  \n",
            "  inflating: Dataset_Available/Alimzhan_Tokhtakhounov/Alimzhan_Tokhtakhounov_0002.jpg  \n",
            "   creating: Dataset_Available/Alina_Kabaeva/\n",
            "  inflating: Dataset_Available/Alina_Kabaeva/Alina_Kabaeva_0001.jpg  \n",
            "   creating: Dataset_Available/Aline_Chretien/\n",
            "  inflating: Dataset_Available/Aline_Chretien/Aline_Chretien_0001.jpg  \n",
            "   creating: Dataset_Available/Alisha_Richman/\n",
            "  inflating: Dataset_Available/Alisha_Richman/Alisha_Richman_0001.jpg  \n",
            "   creating: Dataset_Available/Alison_Krauss/\n",
            "  inflating: Dataset_Available/Alison_Krauss/Alison_Krauss_0001.jpg  \n",
            "   creating: Dataset_Available/Alison_Lohman/\n",
            "  inflating: Dataset_Available/Alison_Lohman/Alison_Lohman_0001.jpg  \n",
            "  inflating: Dataset_Available/Alison_Lohman/Alison_Lohman_0002.jpg  \n",
            "   creating: Dataset_Available/Alistair_MacDonald/\n",
            "  inflating: Dataset_Available/Alistair_MacDonald/Alistair_MacDonald_0001.jpg  \n",
            "   creating: Dataset_Available/Allan_Houston/\n",
            "  inflating: Dataset_Available/Allan_Houston/Allan_Houston_0001.jpg  \n",
            "   creating: Dataset_Available/Allan_Kemakeza/\n",
            "  inflating: Dataset_Available/Allan_Kemakeza/Allan_Kemakeza_0001.jpg  \n",
            "   creating: Dataset_Available/Allan_Wagner/\n",
            "  inflating: Dataset_Available/Allan_Wagner/Allan_Wagner_0001.jpg  \n",
            "   creating: Dataset_Available/Allen_Iverson/\n",
            "  inflating: Dataset_Available/Allen_Iverson/Allen_Iverson_0001.jpg  \n",
            "  inflating: Dataset_Available/Allen_Iverson/Allen_Iverson_0002.jpg  \n",
            "   creating: Dataset_Available/Allen_Rock/\n",
            "  inflating: Dataset_Available/Allen_Rock/Allen_Rock_0001.jpg  \n",
            "   creating: Dataset_Available/Allison_Janney/\n",
            "  inflating: Dataset_Available/Allison_Janney/Allison_Janney_0001.jpg  \n",
            "  inflating: Dataset_Available/Allison_Janney/Allison_Janney_0002.jpg  \n",
            "   creating: Dataset_Available/Allison_Searing/\n",
            "  inflating: Dataset_Available/Allison_Searing/Allison_Searing_0001.jpg  \n",
            "   creating: Dataset_Available/Ally_Sheedy/\n",
            "  inflating: Dataset_Available/Ally_Sheedy/Ally_Sheedy_0001.jpg  \n",
            "   creating: Dataset_Available/Allyson_Felix/\n",
            "  inflating: Dataset_Available/Allyson_Felix/Allyson_Felix_0001.jpg  \n",
            "  inflating: Dataset_Available/Allyson_Felix/Allyson_Felix_0002.jpg  \n",
            "  inflating: Dataset_Available/Allyson_Felix/Allyson_Felix_0003.jpg  \n",
            "  inflating: Dataset_Available/Allyson_Felix/Allyson_Felix_0004.jpg  \n",
            "  inflating: Dataset_Available/Allyson_Felix/Allyson_Felix_0005.jpg  \n",
            "   creating: Dataset_Available/Alma_Powell/\n",
            "  inflating: Dataset_Available/Alma_Powell/Alma_Powell_0001.jpg  \n",
            "   creating: Dataset_Available/Almeida_Baptista/\n",
            "  inflating: Dataset_Available/Almeida_Baptista/Almeida_Baptista_0001.jpg  \n",
            "   creating: Dataset_Available/Alonzo_Mourning/\n",
            "  inflating: Dataset_Available/Alonzo_Mourning/Alonzo_Mourning_0001.jpg  \n"
          ]
        }
      ],
      "source": [
        "!unzip /content/Dataset_Available.zip"
      ]
    },
    {
      "cell_type": "markdown",
      "metadata": {
        "id": "fZ8Nf2_suOD2"
      },
      "source": [
        "#### Checking the height and width of any one of the images so as to resize it for input in Resnet18 model"
      ]
    },
    {
      "cell_type": "code",
      "execution_count": 4,
      "metadata": {
        "colab": {
          "base_uri": "https://localhost:8080/"
        },
        "id": "1s3vR-3qS869",
        "outputId": "47bd5738-1f14-4af2-caee-f5e24c14816e"
      },
      "outputs": [
        {
          "output_type": "stream",
          "name": "stdout",
          "text": [
            "Width: 250, Height: 250\n"
          ]
        }
      ],
      "source": [
        "import matplotlib.pyplot as plt\n",
        "import matplotlib.image as mpimg\n",
        "image = cv2.imread(\"/content/Dataset_Available/Ahmed_Ibrahim_Bilal/Ahmed_Ibrahim_Bilal_0001.jpg\")\n",
        "height, width, _ = image.shape\n",
        "# from IPython.display import Image, display\n",
        "\n",
        "# display(Image(filename='/content/Dataset_Available/Ahmed_Ibrahim_Bilal/Ahmed_Ibrahim_Bilal_0001.jpg'))\n",
        "print(f\"Width: {width}, Height: {height}\")"
      ]
    },
    {
      "cell_type": "markdown",
      "metadata": {
        "id": "qbHWKEvFSZyH"
      },
      "source": [
        "#### (2) Get the number of persons with more than one image"
      ]
    },
    {
      "cell_type": "code",
      "execution_count": 5,
      "metadata": {
        "id": "3dio0dI7mbHR"
      },
      "outputs": [],
      "source": [
        "# Set random seed for reproducibility\n",
        "random.seed(42)\n",
        "np.random.seed(42)\n",
        "torch.manual_seed(42)\n",
        "\n",
        "data_dir = '/content/Dataset_Available'\n",
        "person_to_images = {} # Stores the folder name as key and image names as values in form of dictionary\n",
        "\n",
        "for person in os.listdir(data_dir):\n",
        "    person_images = os.listdir(os.path.join(data_dir, person))\n",
        "    if len(person_images) > 1: # Checks if there are more than 1 images in a folder\n",
        "        person_to_images[person] = person_images"
      ]
    },
    {
      "cell_type": "code",
      "execution_count": 6,
      "metadata": {
        "colab": {
          "base_uri": "https://localhost:8080/"
        },
        "id": "cg72QddrxWYG",
        "outputId": "d18c28cb-561d-4d04-d24e-4fed9fd2568a"
      },
      "outputs": [
        {
          "output_type": "stream",
          "name": "stdout",
          "text": [
            "['Aaron_Peirsol_0004.jpg', 'Aaron_Peirsol_0002.jpg', 'Aaron_Peirsol_0003.jpg', 'Aaron_Peirsol_0001.jpg']\n"
          ]
        }
      ],
      "source": [
        "print(person_to_images['Aaron_Peirsol'])"
      ]
    },
    {
      "cell_type": "code",
      "execution_count": 9,
      "metadata": {
        "colab": {
          "base_uri": "https://localhost:8080/"
        },
        "id": "CPUmIAo8zvxw",
        "outputId": "6ef2c3c7-9135-4c8b-d7a1-ceceb363821c"
      },
      "outputs": [
        {
          "output_type": "stream",
          "name": "stdout",
          "text": [
            "['Ali_Khamenei', 'Ai_Sugiyama', 'Abdullah_Gul', 'Adrian_Nastase', 'Alan_Greenspan', 'Aicha_El_Ouafi', 'Aaron_Peirsol', 'Aleksander_Kwasniewski', 'Abdullatif_Sener', 'Allen_Iverson', 'Alec_Baldwin', 'Akbar_Hashemi_Rafsanjani', 'Alex_Penelas', 'Alice_Fisher', 'Alexander_Downer', 'Adrien_Brody', 'Alexander_Rumyantsev', 'Abdullah', 'Al_Sharpton', 'Alejandro_Toledo', 'Al_Gore', 'Aitor_Gonzalez', 'Abid_Hamid_Mahmud_Al-Tikriti', 'Albert_Costa', 'Adolfo_Rodriguez_Saa', 'Alberto_Fujimori', 'Al_Pacino', 'Allison_Janney', 'Ahmet_Necdet_Sezer', 'Allyson_Felix', 'Alastair_Campbell', 'Alexandra_Stevenson', 'Abdel_Nasser_Assidi', 'Abdoulaye_Wade', 'Alexander_Losyukov', 'Ali_Naimi', 'Adam_Scott', 'Albrecht_Mentz', 'Alejandro_Avila', 'Ahmed_Chalabi', 'Alberto_Ruiz_Gallardon', 'Akhmed_Zakayev', 'Aldo_Paredes', 'Alex_Sink', 'Alan_Mulally', 'Alan_Ball', 'Alex_Barros', 'Aaron_Sorkin', 'Abdullah_al-Attiyah', 'Alejandro_Atchugarry', 'Ahmad_Masood', 'Adam_Sandler', 'Alexandra_Vodjanikova', 'Al_Davis', 'Alicia_Silverstone', 'Abel_Pacheco', 'Adel_Al-Jubeir', 'Alison_Lohman', 'Adolfo_Aguilar_Zinser', 'Alimzhan_Tokhtakhounov', 'Ali_Abbas', 'Adrian_McPherson']\n"
          ]
        }
      ],
      "source": [
        "persons = list(person_to_images.keys()) # Prints the name of the folders with multiple images\n",
        "print(persons)"
      ]
    },
    {
      "cell_type": "markdown",
      "metadata": {
        "id": "HCug7KyVSIis"
      },
      "source": [
        "#### (3) Split the dataset into training, validation, and testing by person\n"
      ]
    },
    {
      "cell_type": "code",
      "execution_count": 8,
      "metadata": {
        "id": "tp8VtPbemfJn"
      },
      "outputs": [],
      "source": [
        "persons = list(person_to_images.keys()) # Taking only the persons having multiple images for training, testing and validation\n",
        "train_persons, val_test_persons = train_test_split(persons, test_size=0.3, random_state=42)\n",
        "val_persons, test_persons = train_test_split(val_test_persons, test_size=0.5, random_state=42)"
      ]
    },
    {
      "cell_type": "markdown",
      "metadata": {
        "id": "wVcQVnX1S59d"
      },
      "source": [
        "#### The names of persons whose images would be used for training"
      ]
    },
    {
      "cell_type": "code",
      "execution_count": 10,
      "metadata": {
        "colab": {
          "base_uri": "https://localhost:8080/"
        },
        "id": "U1b1fgwG5qRk",
        "outputId": "341c3706-1c44-4a30-d35a-23545945d752"
      },
      "outputs": [
        {
          "output_type": "stream",
          "name": "stdout",
          "text": [
            "['Abdullatif_Sener', 'Aaron_Peirsol', 'Alexandra_Stevenson', 'Alan_Greenspan', 'Alan_Ball', 'Alejandro_Toledo', 'Alexandra_Vodjanikova', 'Adam_Scott', 'Al_Davis', 'Akhmed_Zakayev', 'Adolfo_Aguilar_Zinser', 'Adrien_Brody', 'Alberto_Ruiz_Gallardon', 'Allison_Janney', 'Al_Pacino', 'Adolfo_Rodriguez_Saa', 'Alan_Mulally', 'Akbar_Hashemi_Rafsanjani', 'Abdel_Nasser_Assidi', 'Abel_Pacheco', 'Alex_Sink', 'Albrecht_Mentz', 'Allyson_Felix', 'Alex_Barros', 'Ai_Sugiyama', 'Aitor_Gonzalez', 'Abdullah_Gul', 'Alejandro_Atchugarry', 'Ahmed_Chalabi', 'Ali_Naimi', 'Albert_Costa', 'Ali_Abbas', 'Alec_Baldwin', 'Abid_Hamid_Mahmud_Al-Tikriti', 'Al_Sharpton', 'Adrian_McPherson', 'Al_Gore', 'Aleksander_Kwasniewski', 'Aldo_Paredes', 'Alexander_Downer', 'Ahmet_Necdet_Sezer', 'Adam_Sandler', 'Alejandro_Avila']\n"
          ]
        }
      ],
      "source": [
        "print(train_persons)"
      ]
    },
    {
      "cell_type": "markdown",
      "metadata": {
        "id": "ae93m0JQTxY_"
      },
      "source": [
        "#### Create a folder named \"Train_Dataset\" which contains all the folders with images which would be used in training"
      ]
    },
    {
      "cell_type": "code",
      "execution_count": 11,
      "metadata": {
        "colab": {
          "base_uri": "https://localhost:8080/"
        },
        "id": "IxP49Eya57rL",
        "outputId": "a4868f85-41a4-4759-a5e3-6d1ac8a87f34"
      },
      "outputs": [
        {
          "output_type": "stream",
          "name": "stdout",
          "text": [
            "New dataset created in /content/Train_Dataset\n"
          ]
        }
      ],
      "source": [
        "import shutil\n",
        "data_dir = '/content/Dataset_Available'\n",
        "\n",
        "# Define the path where we want to create the new folder\n",
        "new_data_dir = '/content/Train_Dataset'\n",
        "\n",
        "# Create the new data directory if it doesn't exist\n",
        "if not os.path.exists(new_data_dir):\n",
        "    os.makedirs(new_data_dir)\n",
        "\n",
        "# Iterate through the persons in the train_persons list and copy their folders\n",
        "for person in train_persons:\n",
        "    person_folder = os.path.join(new_data_dir, person)\n",
        "    if not os.path.exists(person_folder):\n",
        "        os.makedirs(person_folder)\n",
        "    person_source_folder = os.path.join(data_dir, person)\n",
        "\n",
        "    # Copy all the images from the source folder to the new folder\n",
        "    for image_file in os.listdir(person_source_folder):\n",
        "        source_path = os.path.join(person_source_folder, image_file)\n",
        "        destination_path = os.path.join(person_folder, image_file)\n",
        "        shutil.copyfile(source_path, destination_path)\n",
        "\n",
        "print(\"New dataset created in\", new_data_dir)\n",
        "#This code will create a new directory structure where each person's folder from the train_persons list is copied to the new data directory. You can replace '/content/New_Dataset' with your desired location for the new dataset."
      ]
    },
    {
      "cell_type": "markdown",
      "metadata": {
        "id": "NyIX2OsLUGVT"
      },
      "source": [
        "#### Create a folder named \"Val_Dataset\" which contains all the folders with images which would be used in validation"
      ]
    },
    {
      "cell_type": "code",
      "execution_count": 12,
      "metadata": {
        "colab": {
          "base_uri": "https://localhost:8080/"
        },
        "id": "BkaMTXzt82Sq",
        "outputId": "de75b136-f637-4038-fb82-f58a79ba6f57"
      },
      "outputs": [
        {
          "output_type": "stream",
          "name": "stdout",
          "text": [
            "New dataset created in /content/Val_Dataset\n"
          ]
        }
      ],
      "source": [
        "new_data_dir = '/content/Val_Dataset'  # Replace with the desired location\n",
        "\n",
        "# Create the new data directory if it doesn't exist\n",
        "if not os.path.exists(new_data_dir):\n",
        "    os.makedirs(new_data_dir)\n",
        "\n",
        "# Iterate through the persons in the train_persons list and copy their folders\n",
        "for person in val_persons:\n",
        "    person_folder = os.path.join(new_data_dir, person)\n",
        "    if not os.path.exists(person_folder):\n",
        "        os.makedirs(person_folder)\n",
        "    person_source_folder = os.path.join(data_dir, person)\n",
        "\n",
        "    # Copy all the images from the source folder to the new folder\n",
        "    for image_file in os.listdir(person_source_folder):\n",
        "        source_path = os.path.join(person_source_folder, image_file)\n",
        "        destination_path = os.path.join(person_folder, image_file)\n",
        "        shutil.copyfile(source_path, destination_path)\n",
        "\n",
        "print(\"New dataset created in\", new_data_dir)"
      ]
    },
    {
      "cell_type": "markdown",
      "metadata": {
        "id": "mHlOti_jULW0"
      },
      "source": [
        "#### Create a folder named \"Test_Dataset\" which contains all the folders with images which would be used in testing"
      ]
    },
    {
      "cell_type": "code",
      "execution_count": 14,
      "metadata": {
        "colab": {
          "base_uri": "https://localhost:8080/"
        },
        "id": "72-1ql2w9Vt4",
        "outputId": "a25ccc0f-8885-495a-88bd-427ce837ab58"
      },
      "outputs": [
        {
          "output_type": "stream",
          "name": "stdout",
          "text": [
            "New dataset created in /content/Test_Dataset\n"
          ]
        }
      ],
      "source": [
        "new_data_dir = '/content/Test_Dataset'  # Replace with the desired location\n",
        "\n",
        "# Create the new data directory if it doesn't exist\n",
        "if not os.path.exists(new_data_dir):\n",
        "    os.makedirs(new_data_dir)\n",
        "\n",
        "# Iterate through the persons in the train_persons list and copy their folders\n",
        "for person in test_persons:\n",
        "    person_folder = os.path.join(new_data_dir, person)\n",
        "    if not os.path.exists(person_folder):\n",
        "        os.makedirs(person_folder)\n",
        "    person_source_folder = os.path.join(data_dir, person)\n",
        "\n",
        "    # Copy all the images from the source folder to the new folder\n",
        "    for image_file in os.listdir(person_source_folder):\n",
        "        source_path = os.path.join(person_source_folder, image_file)\n",
        "        destination_path = os.path.join(person_folder, image_file)\n",
        "        shutil.copyfile(source_path, destination_path)\n",
        "\n",
        "print(\"New dataset created in\", new_data_dir)"
      ]
    },
    {
      "cell_type": "code",
      "execution_count": 15,
      "metadata": {
        "colab": {
          "base_uri": "https://localhost:8080/"
        },
        "id": "N6ERgeWZAGR6",
        "outputId": "41a1aecb-ac7b-4a8d-9531-bcd81890c6b6"
      },
      "outputs": [
        {
          "output_type": "stream",
          "name": "stdout",
          "text": [
            "Requirement already satisfied: torch in /usr/local/lib/python3.10/dist-packages (2.1.0+cu118)\n",
            "Requirement already satisfied: torchvision in /usr/local/lib/python3.10/dist-packages (0.16.0+cu118)\n",
            "Requirement already satisfied: filelock in /usr/local/lib/python3.10/dist-packages (from torch) (3.12.4)\n",
            "Requirement already satisfied: typing-extensions in /usr/local/lib/python3.10/dist-packages (from torch) (4.5.0)\n",
            "Requirement already satisfied: sympy in /usr/local/lib/python3.10/dist-packages (from torch) (1.12)\n",
            "Requirement already satisfied: networkx in /usr/local/lib/python3.10/dist-packages (from torch) (3.1)\n",
            "Requirement already satisfied: jinja2 in /usr/local/lib/python3.10/dist-packages (from torch) (3.1.2)\n",
            "Requirement already satisfied: fsspec in /usr/local/lib/python3.10/dist-packages (from torch) (2023.6.0)\n",
            "Requirement already satisfied: triton==2.1.0 in /usr/local/lib/python3.10/dist-packages (from torch) (2.1.0)\n",
            "Requirement already satisfied: numpy in /usr/local/lib/python3.10/dist-packages (from torchvision) (1.23.5)\n",
            "Requirement already satisfied: requests in /usr/local/lib/python3.10/dist-packages (from torchvision) (2.31.0)\n",
            "Requirement already satisfied: pillow!=8.3.*,>=5.3.0 in /usr/local/lib/python3.10/dist-packages (from torchvision) (9.4.0)\n",
            "Requirement already satisfied: MarkupSafe>=2.0 in /usr/local/lib/python3.10/dist-packages (from jinja2->torch) (2.1.3)\n",
            "Requirement already satisfied: charset-normalizer<4,>=2 in /usr/local/lib/python3.10/dist-packages (from requests->torchvision) (3.3.0)\n",
            "Requirement already satisfied: idna<4,>=2.5 in /usr/local/lib/python3.10/dist-packages (from requests->torchvision) (3.4)\n",
            "Requirement already satisfied: urllib3<3,>=1.21.1 in /usr/local/lib/python3.10/dist-packages (from requests->torchvision) (2.0.7)\n",
            "Requirement already satisfied: certifi>=2017.4.17 in /usr/local/lib/python3.10/dist-packages (from requests->torchvision) (2023.7.22)\n",
            "Requirement already satisfied: mpmath>=0.19 in /usr/local/lib/python3.10/dist-packages (from sympy->torch) (1.3.0)\n"
          ]
        }
      ],
      "source": [
        "!pip install torch torchvision\n"
      ]
    },
    {
      "cell_type": "markdown",
      "metadata": {
        "id": "UOoqQetzgWO6"
      },
      "source": [
        "#### Control the behavior of the CuDNN (CUDA Deep Neural Network) library, which is a GPU-accelerated library for deep neural networks commonly used with PyTorch"
      ]
    },
    {
      "cell_type": "code",
      "execution_count": 16,
      "metadata": {
        "id": "UOP7Gd2OAGPg"
      },
      "outputs": [],
      "source": [
        "torch.backends.cudnn.deterministic = True\n",
        "torch.backends.cudnn.benchmark = False"
      ]
    },
    {
      "cell_type": "markdown",
      "metadata": {
        "id": "Wrln1hrSd859"
      },
      "source": [
        "#### Defines a PyTorch dataset, SiameseDataset, for Siamese network training, generating pairs of images from the specified folder and labeling them as either \"Same person\" (label 1) or \"Different persons\" (label 0), suitable for similarity-based learning tasks."
      ]
    },
    {
      "cell_type": "code",
      "execution_count": 17,
      "metadata": {
        "id": "M-QXJwbtAEw7"
      },
      "outputs": [],
      "source": [
        "class SiameseDataset(Dataset):\n",
        "    def __init__(self, image_folder, transform=None):\n",
        "        self.image_folder = image_folder\n",
        "        self.transform = transform\n",
        "        self.pairs, self.labels = self.generate_pairs_labels()\n",
        "\n",
        "    def generate_pairs_labels(self): # This function generates pairs of same images with label 1 and pairs of different images with label 0\n",
        "        pairs = []\n",
        "        labels = []\n",
        "        for person in os.listdir(self.image_folder):\n",
        "            person_path = os.path.join(self.image_folder, person)\n",
        "            if os.path.isdir(person_path):\n",
        "                images = os.listdir(person_path)\n",
        "                for i in range(len(images)):\n",
        "                    for j in range(i + 1, len(images)):\n",
        "                        pairs.append((os.path.join(person_path, images[i]), os.path.join(person_path, images[j])))\n",
        "                        labels.append(1)  # Same person\n",
        "        for person1 in os.listdir(self.image_folder):\n",
        "          for person2 in os.listdir(self.image_folder):\n",
        "                if person1 != person2: # Checking whether folder is same or different as need to assign label 0\n",
        "                    person1_path = os.path.join(self.image_folder, person1)\n",
        "                    person2_path = os.path.join(self.image_folder, person2)\n",
        "                    images1 = os.listdir(person1_path)\n",
        "                    images2 = os.listdir(person2_path)\n",
        "                    for i in range(len(images1)):\n",
        "                        for j in range(len(images2)):\n",
        "                            pairs.append((os.path.join(person1_path, images1[i]), os.path.join(person2_path, images2[j])))\n",
        "                            labels.append(0)  # Different persons\n",
        "        return pairs, labels # Returns the pairs with their corresponding labels\n",
        "    def __len__(self):\n",
        "        return len(self.pairs) # Returns the number of pairs present\n",
        "\n",
        "    def __getitem__(self, idx): # This function retrieves and preprocesses a pair of images from the dataset,\n",
        "        img1_path, img2_path = self.pairs[idx]# applies a specified transformation, and returns the pair of images along with their associated label\n",
        "\n",
        "        img1 = Image.open(img1_path)\n",
        "        img2 = Image.open(img2_path)\n",
        "\n",
        "        if self.transform:\n",
        "            img1 = self.transform(img1)\n",
        "            img2 = self.transform(img2)\n",
        "\n",
        "        label = torch.Tensor([self.labels[idx]]).float()\n",
        "\n",
        "        return img1, img2, label"
      ]
    },
    {
      "cell_type": "markdown",
      "metadata": {
        "id": "y4s1p49_izqR"
      },
      "source": [
        "#### (5)Define image preprocessing transformations like for input to Resnet18 we need a tensor of 224 * 224 * 3 so it resizes and converts it to tensor followed by normalization\n"
      ]
    },
    {
      "cell_type": "code",
      "execution_count": 18,
      "metadata": {
        "id": "BGu1JUChixks"
      },
      "outputs": [],
      "source": [
        "transform = transforms.Compose([\n",
        "    transforms.Resize((224, 224)),\n",
        "    transforms.ToTensor(),\n",
        "    transforms.Normalize(mean=[0.485, 0.456, 0.406], std=[0.229, 0.224, 0.225]),\n",
        "])"
      ]
    },
    {
      "cell_type": "markdown",
      "metadata": {
        "id": "eXomiOUGkiNw"
      },
      "source": [
        "#### (6a) Define image transformations with augementation like it roates, flips horizonatlly and apply jitters for input image to Resnet18 and converts it to tensor followed by normalization"
      ]
    },
    {
      "cell_type": "code",
      "execution_count": 19,
      "metadata": {
        "id": "hK-XNp7fwthj"
      },
      "outputs": [],
      "source": [
        "data_transforms_with_Augmentation = transforms.Compose([\n",
        "    transforms.RandomResizedCrop(224),\n",
        "    transforms.RandomHorizontalFlip(),\n",
        "    transforms.ColorJitter(brightness=0.4, contrast=0.4, saturation=0.4, hue=0.1),\n",
        "    transforms.RandomRotation(20),\n",
        "    transforms.ToTensor(),\n",
        "    transforms.Normalize(mean=[0.485, 0.456, 0.406], std=[0.229, 0.224, 0.225])\n",
        "])"
      ]
    },
    {
      "cell_type": "code",
      "execution_count": 20,
      "metadata": {
        "id": "gT65XE5vCzjh"
      },
      "outputs": [],
      "source": [
        "train_data_folder = '/content/Train_Dataset'\n",
        "val_data_folder = '/content/Val_Dataset'\n",
        "test_data_folder = '/content/Test_Dataset'\n",
        "siamese_train_dataset = SiameseDataset(train_data_folder, transform=data_transforms_with_Augmentation)\n",
        "batch_size = 32\n",
        "\n",
        "siamese_val_dataset = SiameseDataset(val_data_folder, transform=transform)\n",
        "siamese_test_dataset = SiameseDataset(test_data_folder, transform=transform)"
      ]
    },
    {
      "cell_type": "code",
      "execution_count": 21,
      "metadata": {
        "colab": {
          "base_uri": "https://localhost:8080/"
        },
        "id": "2Esg5pFtEHe0",
        "outputId": "3b621b87-4cac-464a-9ce8-3ae798102b0a"
      },
      "outputs": [
        {
          "output_type": "stream",
          "name": "stdout",
          "text": [
            "39818\n"
          ]
        }
      ],
      "source": [
        "print(len(siamese_train_dataset))"
      ]
    },
    {
      "cell_type": "markdown",
      "metadata": {
        "id": "5gO8ersmlJJ5"
      },
      "source": [
        "#### Taking only a random subset of the training dataset for input to the model\n",
        "\n"
      ]
    },
    {
      "cell_type": "code",
      "execution_count": 22,
      "metadata": {
        "id": "i76wppK8NcET"
      },
      "outputs": [],
      "source": [
        "from torch.utils.data import Subset\n",
        "num_pairs_to_keep = 400  # Adjust the desired number of pairs\n",
        "selected_indices = random.sample(range(len(siamese_train_dataset)), num_pairs_to_keep)\n",
        "limited_siamese_train_dataset = Subset(siamese_train_dataset, selected_indices)"
      ]
    },
    {
      "cell_type": "markdown",
      "metadata": {
        "id": "gLJe6IOUlplJ"
      },
      "source": [
        "#### Taking only a random subset of validation dataset to validate model's performance"
      ]
    },
    {
      "cell_type": "code",
      "execution_count": 23,
      "metadata": {
        "id": "Mr9CGMf5N5lb"
      },
      "outputs": [],
      "source": [
        "num_pairs_to_keep = 200  # Adjust the desired number of pairs\n",
        "selected_indices = random.sample(range(len(siamese_val_dataset)), num_pairs_to_keep)\n",
        "limited_siamese_val_dataset = Subset(siamese_val_dataset, selected_indices)"
      ]
    },
    {
      "cell_type": "markdown",
      "metadata": {
        "id": "lKw_Ac0nl2n0"
      },
      "source": [
        "#### Taking only a random subset of test dataset to test model's performance"
      ]
    },
    {
      "cell_type": "code",
      "execution_count": 24,
      "metadata": {
        "id": "GVs-HDXkkJ4F"
      },
      "outputs": [],
      "source": [
        "num_pairs_to_keep = 300  # Adjust the desired number of pairs\n",
        "selected_indices = random.sample(range(len(siamese_test_dataset)), num_pairs_to_keep)\n",
        "limited_siamese_test_dataset = Subset(siamese_test_dataset, selected_indices)"
      ]
    },
    {
      "cell_type": "markdown",
      "metadata": {
        "id": "yXHRSA2YmEQc"
      },
      "source": [
        "#### Using the Dataloader function to load data for the limited train, validate and test datasets with variable batch_size and shuffle = True"
      ]
    },
    {
      "cell_type": "code",
      "execution_count": 25,
      "metadata": {
        "id": "6lhbei2sOOwJ"
      },
      "outputs": [],
      "source": [
        "train_dataloader = DataLoader(limited_siamese_train_dataset, batch_size=batch_size, shuffle=True)\n",
        "val_dataloader = DataLoader(limited_siamese_val_dataset, batch_size=batch_size, shuffle=True)\n",
        "test_dataloader = DataLoader(limited_siamese_test_dataset, batch_size=batch_size, shuffle=True)\n"
      ]
    },
    {
      "cell_type": "markdown",
      "metadata": {
        "id": "gIccQw2_m0We"
      },
      "source": [
        "#### Defines a Siamese network in PyTorch, where both input1 and input2 are processed through the same base model (shared weights), and the network produces two sets of outputs (output1 and output2) for the two inputs, facilitating similarity comparison between them."
      ]
    },
    {
      "cell_type": "code",
      "execution_count": 26,
      "metadata": {
        "id": "teuH8HvADb8N"
      },
      "outputs": [],
      "source": [
        "class SiameseNetwork(nn.Module):\n",
        "    def __init__(self, base_model):\n",
        "        super(SiameseNetwork, self).__init__()\n",
        "        self.base_model = base_model\n",
        "\n",
        "    def forward_one(self, x):\n",
        "        return self.base_model(x)\n",
        "\n",
        "    def forward(self, input1, input2):\n",
        "        output1 = self.forward_one(input1)\n",
        "        output2 = self.forward_one(input2)\n",
        "        return output1, output2"
      ]
    },
    {
      "cell_type": "markdown",
      "metadata": {
        "id": "yryN8j1Qo_CV"
      },
      "source": [
        "#### (4a) Loads a pre-trained ResNet-18 model, retains its convolutional layers, and replaces the fully connected layer to adapt it for binary classification with two output classes"
      ]
    },
    {
      "cell_type": "code",
      "execution_count": 27,
      "metadata": {
        "colab": {
          "base_uri": "https://localhost:8080/"
        },
        "id": "8_e3zUqoDc0X",
        "outputId": "b8193e88-6201-4ee4-86ae-99781d0d2735"
      },
      "outputs": [
        {
          "output_type": "stream",
          "name": "stderr",
          "text": [
            "/usr/local/lib/python3.10/dist-packages/torchvision/models/_utils.py:208: UserWarning: The parameter 'pretrained' is deprecated since 0.13 and may be removed in the future, please use 'weights' instead.\n",
            "  warnings.warn(\n",
            "/usr/local/lib/python3.10/dist-packages/torchvision/models/_utils.py:223: UserWarning: Arguments other than a weight enum or `None` for 'weights' are deprecated since 0.13 and may be removed in the future. The current behavior is equivalent to passing `weights=ResNet18_Weights.IMAGENET1K_V1`. You can also use `weights=ResNet18_Weights.DEFAULT` to get the most up-to-date weights.\n",
            "  warnings.warn(msg)\n",
            "Downloading: \"https://download.pytorch.org/models/resnet18-f37072fd.pth\" to /root/.cache/torch/hub/checkpoints/resnet18-f37072fd.pth\n",
            "100%|██████████| 44.7M/44.7M [00:00<00:00, 68.0MB/s]\n"
          ]
        }
      ],
      "source": [
        "# Load a pre-trained ResNet-18 model as the base model\n",
        "base_model = models.resnet18(pretrained=True)\n",
        "num_features = base_model.fc.in_features\n",
        "# Modify the fully connected layer to match the desired output size (2 for binary classification)\n",
        "base_model.fc = nn.Linear(num_features, 2)\n"
      ]
    },
    {
      "cell_type": "markdown",
      "metadata": {
        "id": "g8cZdO2-psKL"
      },
      "source": [
        "#### Defines an object with ResNet18 using siamese network class"
      ]
    },
    {
      "cell_type": "code",
      "execution_count": 28,
      "metadata": {
        "id": "S6QBoXBopq7c"
      },
      "outputs": [],
      "source": [
        "siamese_net = SiameseNetwork(base_model)"
      ]
    },
    {
      "cell_type": "code",
      "execution_count": 29,
      "metadata": {
        "id": "f83ctAOGEvRb"
      },
      "outputs": [],
      "source": [
        "import torch.nn.functional as F"
      ]
    },
    {
      "cell_type": "markdown",
      "metadata": {
        "id": "pUwI9E22qBM4"
      },
      "source": [
        "#### Defines a custom contrastive loss function that computes the loss based on the Euclidean distance between pairs of embeddings (output1 and output2) and the ground truth labels (label), enforcing a margin between similar and dissimilar pairs."
      ]
    },
    {
      "cell_type": "code",
      "execution_count": 30,
      "metadata": {
        "id": "8aItMi2mD0bC"
      },
      "outputs": [],
      "source": [
        "# Define the contrastive loss for Siamese network training\n",
        "class ContrastiveLoss(nn.Module):\n",
        "    def __init__(self, margin=2.0): # Default margin set to 2.0\n",
        "        super(ContrastiveLoss, self).__init__()\n",
        "        self.margin = margin\n",
        "\n",
        "    def forward(self, output1, output2, label):\n",
        "        euclidean_distance = F.pairwise_distance(output1, output2)\n",
        "        loss_contrastive = torch.mean((1 - label) * torch.pow(euclidean_distance, 2) +\n",
        "                                      (label) * torch.pow(torch.clamp(self.margin - euclidean_distance, min=0.0), 2))\n",
        "        return loss_contrastive"
      ]
    },
    {
      "cell_type": "markdown",
      "metadata": {
        "id": "I2eSad1Iunbb"
      },
      "source": [
        "#### Defines a custom contrastive loss function that computes the loss based on the cosine similarity between pairs of embeddings (output1 and output2) and the ground truth labels (label), encouraging similarity for labeled pairs and dissimilarity for unlabeled pairs while enforcing a margin."
      ]
    },
    {
      "cell_type": "code",
      "execution_count": 31,
      "metadata": {
        "id": "EV0Bvg0-Qi8q"
      },
      "outputs": [],
      "source": [
        "class ContrastiveLossWithCosine(nn.Module):\n",
        "    def __init__(self, margin=2.0):\n",
        "        super(ContrastiveLossWithCosine, self).__init__()\n",
        "        self.margin = margin\n",
        "\n",
        "    def forward(self, output1, output2, label):\n",
        "        cosine_similarity = F.cosine_similarity(output1, output2)\n",
        "        loss_contrastive = label * -torch.log(cosine_similarity) + (1 - label) * -torch.log(1 - cosine_similarity)\n",
        "        loss_contrastive = torch.mean(loss_contrastive)\n",
        "        return loss_contrastive"
      ]
    },
    {
      "cell_type": "markdown",
      "metadata": {
        "id": "TiLQ5Rl-vEhO"
      },
      "source": [
        "#### We can choose the loss function to use in training from the 2 options available"
      ]
    },
    {
      "cell_type": "code",
      "execution_count": 32,
      "metadata": {
        "id": "zojV7XIBD1UA"
      },
      "outputs": [],
      "source": [
        "criterion = ContrastiveLoss()"
      ]
    },
    {
      "cell_type": "markdown",
      "metadata": {
        "id": "92N9kKcGu7hg"
      },
      "source": [
        "#### Using Adam as the 1st optimizer"
      ]
    },
    {
      "cell_type": "code",
      "execution_count": 33,
      "metadata": {
        "id": "s6fNJk_Qu6LW"
      },
      "outputs": [],
      "source": [
        "optimizerA = optim.Adam(siamese_net.parameters(), lr=0.0005)"
      ]
    },
    {
      "cell_type": "markdown",
      "metadata": {
        "id": "3KLra-MSu0Hp"
      },
      "source": [
        "#### Using SGD as a 2nd option"
      ]
    },
    {
      "cell_type": "code",
      "execution_count": 34,
      "metadata": {
        "id": "9Ki2H1IXcCYJ"
      },
      "outputs": [],
      "source": [
        "optimizerB = optim.SGD(siamese_net.parameters(), lr=0.001)"
      ]
    },
    {
      "cell_type": "markdown",
      "metadata": {
        "id": "Tdrem-iOv1Jc"
      },
      "source": [
        "### We train the model siamese_net model using various combinations of Optimizers and learning rate schedulers"
      ]
    },
    {
      "cell_type": "markdown",
      "metadata": {
        "id": "22ZJTckVvWdL"
      },
      "source": [
        "#### (6b)StepLR as learning rate scheduler and OptimizerA i.e. Adam in this code block. Also L2 regularization has been used to prevent overfitting with suitable lambda_l2"
      ]
    },
    {
      "cell_type": "code",
      "execution_count": null,
      "metadata": {
        "colab": {
          "base_uri": "https://localhost:8080/",
          "height": 390
        },
        "id": "GAX82IybD5Pm",
        "outputId": "5d2a9697-b80d-464e-8632-3de698b43fed"
      },
      "outputs": [
        {
          "ename": "KeyboardInterrupt",
          "evalue": "ignored",
          "output_type": "error",
          "traceback": [
            "\u001b[0;31m---------------------------------------------------------------------------\u001b[0m",
            "\u001b[0;31mKeyboardInterrupt\u001b[0m                         Traceback (most recent call last)",
            "\u001b[0;32m<ipython-input-75-253c1ba7a9df>\u001b[0m in \u001b[0;36m<cell line: 8>\u001b[0;34m()\u001b[0m\n\u001b[1;32m     12\u001b[0m         \u001b[0minputs1\u001b[0m\u001b[0;34m,\u001b[0m \u001b[0minputs2\u001b[0m\u001b[0;34m,\u001b[0m \u001b[0mlabels\u001b[0m \u001b[0;34m=\u001b[0m \u001b[0mdata\u001b[0m\u001b[0;34m\u001b[0m\u001b[0;34m\u001b[0m\u001b[0m\n\u001b[1;32m     13\u001b[0m         \u001b[0moptimizerA\u001b[0m\u001b[0;34m.\u001b[0m\u001b[0mzero_grad\u001b[0m\u001b[0;34m(\u001b[0m\u001b[0;34m)\u001b[0m\u001b[0;34m\u001b[0m\u001b[0;34m\u001b[0m\u001b[0m\n\u001b[0;32m---> 14\u001b[0;31m         \u001b[0moutputs1\u001b[0m\u001b[0;34m,\u001b[0m \u001b[0moutputs2\u001b[0m \u001b[0;34m=\u001b[0m \u001b[0msiamese_net\u001b[0m\u001b[0;34m(\u001b[0m\u001b[0minputs1\u001b[0m\u001b[0;34m,\u001b[0m \u001b[0minputs2\u001b[0m\u001b[0;34m)\u001b[0m\u001b[0;34m\u001b[0m\u001b[0;34m\u001b[0m\u001b[0m\n\u001b[0m\u001b[1;32m     15\u001b[0m         \u001b[0mloss\u001b[0m \u001b[0;34m=\u001b[0m \u001b[0mcriterion\u001b[0m\u001b[0;34m(\u001b[0m\u001b[0moutputs1\u001b[0m\u001b[0;34m,\u001b[0m \u001b[0moutputs2\u001b[0m\u001b[0;34m,\u001b[0m \u001b[0mlabels\u001b[0m\u001b[0;34m)\u001b[0m\u001b[0;34m\u001b[0m\u001b[0;34m\u001b[0m\u001b[0m\n\u001b[1;32m     16\u001b[0m         \u001b[0ml2_regularization\u001b[0m \u001b[0;34m=\u001b[0m \u001b[0;36m0.0\u001b[0m\u001b[0;34m\u001b[0m\u001b[0;34m\u001b[0m\u001b[0m\n",
            "\u001b[0;32m/usr/local/lib/python3.10/dist-packages/torch/nn/modules/module.py\u001b[0m in \u001b[0;36m_wrapped_call_impl\u001b[0;34m(self, *args, **kwargs)\u001b[0m\n\u001b[1;32m   1516\u001b[0m             \u001b[0;32mreturn\u001b[0m \u001b[0mself\u001b[0m\u001b[0;34m.\u001b[0m\u001b[0m_compiled_call_impl\u001b[0m\u001b[0;34m(\u001b[0m\u001b[0;34m*\u001b[0m\u001b[0margs\u001b[0m\u001b[0;34m,\u001b[0m \u001b[0;34m**\u001b[0m\u001b[0mkwargs\u001b[0m\u001b[0;34m)\u001b[0m  \u001b[0;31m# type: ignore[misc]\u001b[0m\u001b[0;34m\u001b[0m\u001b[0;34m\u001b[0m\u001b[0m\n\u001b[1;32m   1517\u001b[0m         \u001b[0;32melse\u001b[0m\u001b[0;34m:\u001b[0m\u001b[0;34m\u001b[0m\u001b[0;34m\u001b[0m\u001b[0m\n\u001b[0;32m-> 1518\u001b[0;31m             \u001b[0;32mreturn\u001b[0m \u001b[0mself\u001b[0m\u001b[0;34m.\u001b[0m\u001b[0m_call_impl\u001b[0m\u001b[0;34m(\u001b[0m\u001b[0;34m*\u001b[0m\u001b[0margs\u001b[0m\u001b[0;34m,\u001b[0m \u001b[0;34m**\u001b[0m\u001b[0mkwargs\u001b[0m\u001b[0;34m)\u001b[0m\u001b[0;34m\u001b[0m\u001b[0;34m\u001b[0m\u001b[0m\n\u001b[0m\u001b[1;32m   1519\u001b[0m \u001b[0;34m\u001b[0m\u001b[0m\n\u001b[1;32m   1520\u001b[0m     \u001b[0;32mdef\u001b[0m \u001b[0m_call_impl\u001b[0m\u001b[0;34m(\u001b[0m\u001b[0mself\u001b[0m\u001b[0;34m,\u001b[0m \u001b[0;34m*\u001b[0m\u001b[0margs\u001b[0m\u001b[0;34m,\u001b[0m \u001b[0;34m**\u001b[0m\u001b[0mkwargs\u001b[0m\u001b[0;34m)\u001b[0m\u001b[0;34m:\u001b[0m\u001b[0;34m\u001b[0m\u001b[0;34m\u001b[0m\u001b[0m\n",
            "\u001b[0;32m/usr/local/lib/python3.10/dist-packages/torch/nn/modules/module.py\u001b[0m in \u001b[0;36m_call_impl\u001b[0;34m(self, *args, **kwargs)\u001b[0m\n\u001b[1;32m   1525\u001b[0m                 \u001b[0;32mor\u001b[0m \u001b[0m_global_backward_pre_hooks\u001b[0m \u001b[0;32mor\u001b[0m \u001b[0m_global_backward_hooks\u001b[0m\u001b[0;34m\u001b[0m\u001b[0;34m\u001b[0m\u001b[0m\n\u001b[1;32m   1526\u001b[0m                 or _global_forward_hooks or _global_forward_pre_hooks):\n\u001b[0;32m-> 1527\u001b[0;31m             \u001b[0;32mreturn\u001b[0m \u001b[0mforward_call\u001b[0m\u001b[0;34m(\u001b[0m\u001b[0;34m*\u001b[0m\u001b[0margs\u001b[0m\u001b[0;34m,\u001b[0m \u001b[0;34m**\u001b[0m\u001b[0mkwargs\u001b[0m\u001b[0;34m)\u001b[0m\u001b[0;34m\u001b[0m\u001b[0;34m\u001b[0m\u001b[0m\n\u001b[0m\u001b[1;32m   1528\u001b[0m \u001b[0;34m\u001b[0m\u001b[0m\n\u001b[1;32m   1529\u001b[0m         \u001b[0;32mtry\u001b[0m\u001b[0;34m:\u001b[0m\u001b[0;34m\u001b[0m\u001b[0;34m\u001b[0m\u001b[0m\n",
            "\u001b[0;32m<ipython-input-66-f8b6abd4ced4>\u001b[0m in \u001b[0;36mforward\u001b[0;34m(self, input1, input2)\u001b[0m\n\u001b[1;32m      8\u001b[0m \u001b[0;34m\u001b[0m\u001b[0m\n\u001b[1;32m      9\u001b[0m     \u001b[0;32mdef\u001b[0m \u001b[0mforward\u001b[0m\u001b[0;34m(\u001b[0m\u001b[0mself\u001b[0m\u001b[0;34m,\u001b[0m \u001b[0minput1\u001b[0m\u001b[0;34m,\u001b[0m \u001b[0minput2\u001b[0m\u001b[0;34m)\u001b[0m\u001b[0;34m:\u001b[0m\u001b[0;34m\u001b[0m\u001b[0;34m\u001b[0m\u001b[0m\n\u001b[0;32m---> 10\u001b[0;31m         \u001b[0moutput1\u001b[0m \u001b[0;34m=\u001b[0m \u001b[0mself\u001b[0m\u001b[0;34m.\u001b[0m\u001b[0mforward_one\u001b[0m\u001b[0;34m(\u001b[0m\u001b[0minput1\u001b[0m\u001b[0;34m)\u001b[0m\u001b[0;34m\u001b[0m\u001b[0;34m\u001b[0m\u001b[0m\n\u001b[0m\u001b[1;32m     11\u001b[0m         \u001b[0moutput2\u001b[0m \u001b[0;34m=\u001b[0m \u001b[0mself\u001b[0m\u001b[0;34m.\u001b[0m\u001b[0mforward_one\u001b[0m\u001b[0;34m(\u001b[0m\u001b[0minput2\u001b[0m\u001b[0;34m)\u001b[0m\u001b[0;34m\u001b[0m\u001b[0;34m\u001b[0m\u001b[0m\n\u001b[1;32m     12\u001b[0m         \u001b[0;32mreturn\u001b[0m \u001b[0moutput1\u001b[0m\u001b[0;34m,\u001b[0m \u001b[0moutput2\u001b[0m\u001b[0;34m\u001b[0m\u001b[0;34m\u001b[0m\u001b[0m\n",
            "\u001b[0;32m<ipython-input-66-f8b6abd4ced4>\u001b[0m in \u001b[0;36mforward_one\u001b[0;34m(self, x)\u001b[0m\n\u001b[1;32m      5\u001b[0m \u001b[0;34m\u001b[0m\u001b[0m\n\u001b[1;32m      6\u001b[0m     \u001b[0;32mdef\u001b[0m \u001b[0mforward_one\u001b[0m\u001b[0;34m(\u001b[0m\u001b[0mself\u001b[0m\u001b[0;34m,\u001b[0m \u001b[0mx\u001b[0m\u001b[0;34m)\u001b[0m\u001b[0;34m:\u001b[0m\u001b[0;34m\u001b[0m\u001b[0;34m\u001b[0m\u001b[0m\n\u001b[0;32m----> 7\u001b[0;31m         \u001b[0;32mreturn\u001b[0m \u001b[0mself\u001b[0m\u001b[0;34m.\u001b[0m\u001b[0mbase_model\u001b[0m\u001b[0;34m(\u001b[0m\u001b[0mx\u001b[0m\u001b[0;34m)\u001b[0m\u001b[0;34m\u001b[0m\u001b[0;34m\u001b[0m\u001b[0m\n\u001b[0m\u001b[1;32m      8\u001b[0m \u001b[0;34m\u001b[0m\u001b[0m\n\u001b[1;32m      9\u001b[0m     \u001b[0;32mdef\u001b[0m \u001b[0mforward\u001b[0m\u001b[0;34m(\u001b[0m\u001b[0mself\u001b[0m\u001b[0;34m,\u001b[0m \u001b[0minput1\u001b[0m\u001b[0;34m,\u001b[0m \u001b[0minput2\u001b[0m\u001b[0;34m)\u001b[0m\u001b[0;34m:\u001b[0m\u001b[0;34m\u001b[0m\u001b[0;34m\u001b[0m\u001b[0m\n",
            "\u001b[0;32m/usr/local/lib/python3.10/dist-packages/torch/nn/modules/module.py\u001b[0m in \u001b[0;36m_wrapped_call_impl\u001b[0;34m(self, *args, **kwargs)\u001b[0m\n\u001b[1;32m   1516\u001b[0m             \u001b[0;32mreturn\u001b[0m \u001b[0mself\u001b[0m\u001b[0;34m.\u001b[0m\u001b[0m_compiled_call_impl\u001b[0m\u001b[0;34m(\u001b[0m\u001b[0;34m*\u001b[0m\u001b[0margs\u001b[0m\u001b[0;34m,\u001b[0m \u001b[0;34m**\u001b[0m\u001b[0mkwargs\u001b[0m\u001b[0;34m)\u001b[0m  \u001b[0;31m# type: ignore[misc]\u001b[0m\u001b[0;34m\u001b[0m\u001b[0;34m\u001b[0m\u001b[0m\n\u001b[1;32m   1517\u001b[0m         \u001b[0;32melse\u001b[0m\u001b[0;34m:\u001b[0m\u001b[0;34m\u001b[0m\u001b[0;34m\u001b[0m\u001b[0m\n\u001b[0;32m-> 1518\u001b[0;31m             \u001b[0;32mreturn\u001b[0m \u001b[0mself\u001b[0m\u001b[0;34m.\u001b[0m\u001b[0m_call_impl\u001b[0m\u001b[0;34m(\u001b[0m\u001b[0;34m*\u001b[0m\u001b[0margs\u001b[0m\u001b[0;34m,\u001b[0m \u001b[0;34m**\u001b[0m\u001b[0mkwargs\u001b[0m\u001b[0;34m)\u001b[0m\u001b[0;34m\u001b[0m\u001b[0;34m\u001b[0m\u001b[0m\n\u001b[0m\u001b[1;32m   1519\u001b[0m \u001b[0;34m\u001b[0m\u001b[0m\n\u001b[1;32m   1520\u001b[0m     \u001b[0;32mdef\u001b[0m \u001b[0m_call_impl\u001b[0m\u001b[0;34m(\u001b[0m\u001b[0mself\u001b[0m\u001b[0;34m,\u001b[0m \u001b[0;34m*\u001b[0m\u001b[0margs\u001b[0m\u001b[0;34m,\u001b[0m \u001b[0;34m**\u001b[0m\u001b[0mkwargs\u001b[0m\u001b[0;34m)\u001b[0m\u001b[0;34m:\u001b[0m\u001b[0;34m\u001b[0m\u001b[0;34m\u001b[0m\u001b[0m\n",
            "\u001b[0;32m/usr/local/lib/python3.10/dist-packages/torch/nn/modules/module.py\u001b[0m in \u001b[0;36m_call_impl\u001b[0;34m(self, *args, **kwargs)\u001b[0m\n\u001b[1;32m   1525\u001b[0m                 \u001b[0;32mor\u001b[0m \u001b[0m_global_backward_pre_hooks\u001b[0m \u001b[0;32mor\u001b[0m \u001b[0m_global_backward_hooks\u001b[0m\u001b[0;34m\u001b[0m\u001b[0;34m\u001b[0m\u001b[0m\n\u001b[1;32m   1526\u001b[0m                 or _global_forward_hooks or _global_forward_pre_hooks):\n\u001b[0;32m-> 1527\u001b[0;31m             \u001b[0;32mreturn\u001b[0m \u001b[0mforward_call\u001b[0m\u001b[0;34m(\u001b[0m\u001b[0;34m*\u001b[0m\u001b[0margs\u001b[0m\u001b[0;34m,\u001b[0m \u001b[0;34m**\u001b[0m\u001b[0mkwargs\u001b[0m\u001b[0;34m)\u001b[0m\u001b[0;34m\u001b[0m\u001b[0;34m\u001b[0m\u001b[0m\n\u001b[0m\u001b[1;32m   1528\u001b[0m \u001b[0;34m\u001b[0m\u001b[0m\n\u001b[1;32m   1529\u001b[0m         \u001b[0;32mtry\u001b[0m\u001b[0;34m:\u001b[0m\u001b[0;34m\u001b[0m\u001b[0;34m\u001b[0m\u001b[0m\n",
            "\u001b[0;32m/usr/local/lib/python3.10/dist-packages/torchvision/models/resnet.py\u001b[0m in \u001b[0;36mforward\u001b[0;34m(self, x)\u001b[0m\n\u001b[1;32m    283\u001b[0m \u001b[0;34m\u001b[0m\u001b[0m\n\u001b[1;32m    284\u001b[0m     \u001b[0;32mdef\u001b[0m \u001b[0mforward\u001b[0m\u001b[0;34m(\u001b[0m\u001b[0mself\u001b[0m\u001b[0;34m,\u001b[0m \u001b[0mx\u001b[0m\u001b[0;34m:\u001b[0m \u001b[0mTensor\u001b[0m\u001b[0;34m)\u001b[0m \u001b[0;34m->\u001b[0m \u001b[0mTensor\u001b[0m\u001b[0;34m:\u001b[0m\u001b[0;34m\u001b[0m\u001b[0;34m\u001b[0m\u001b[0m\n\u001b[0;32m--> 285\u001b[0;31m         \u001b[0;32mreturn\u001b[0m \u001b[0mself\u001b[0m\u001b[0;34m.\u001b[0m\u001b[0m_forward_impl\u001b[0m\u001b[0;34m(\u001b[0m\u001b[0mx\u001b[0m\u001b[0;34m)\u001b[0m\u001b[0;34m\u001b[0m\u001b[0;34m\u001b[0m\u001b[0m\n\u001b[0m\u001b[1;32m    286\u001b[0m \u001b[0;34m\u001b[0m\u001b[0m\n\u001b[1;32m    287\u001b[0m \u001b[0;34m\u001b[0m\u001b[0m\n",
            "\u001b[0;32m/usr/local/lib/python3.10/dist-packages/torchvision/models/resnet.py\u001b[0m in \u001b[0;36m_forward_impl\u001b[0;34m(self, x)\u001b[0m\n\u001b[1;32m    274\u001b[0m         \u001b[0mx\u001b[0m \u001b[0;34m=\u001b[0m \u001b[0mself\u001b[0m\u001b[0;34m.\u001b[0m\u001b[0mlayer2\u001b[0m\u001b[0;34m(\u001b[0m\u001b[0mx\u001b[0m\u001b[0;34m)\u001b[0m\u001b[0;34m\u001b[0m\u001b[0;34m\u001b[0m\u001b[0m\n\u001b[1;32m    275\u001b[0m         \u001b[0mx\u001b[0m \u001b[0;34m=\u001b[0m \u001b[0mself\u001b[0m\u001b[0;34m.\u001b[0m\u001b[0mlayer3\u001b[0m\u001b[0;34m(\u001b[0m\u001b[0mx\u001b[0m\u001b[0;34m)\u001b[0m\u001b[0;34m\u001b[0m\u001b[0;34m\u001b[0m\u001b[0m\n\u001b[0;32m--> 276\u001b[0;31m         \u001b[0mx\u001b[0m \u001b[0;34m=\u001b[0m \u001b[0mself\u001b[0m\u001b[0;34m.\u001b[0m\u001b[0mlayer4\u001b[0m\u001b[0;34m(\u001b[0m\u001b[0mx\u001b[0m\u001b[0;34m)\u001b[0m\u001b[0;34m\u001b[0m\u001b[0;34m\u001b[0m\u001b[0m\n\u001b[0m\u001b[1;32m    277\u001b[0m \u001b[0;34m\u001b[0m\u001b[0m\n\u001b[1;32m    278\u001b[0m         \u001b[0mx\u001b[0m \u001b[0;34m=\u001b[0m \u001b[0mself\u001b[0m\u001b[0;34m.\u001b[0m\u001b[0mavgpool\u001b[0m\u001b[0;34m(\u001b[0m\u001b[0mx\u001b[0m\u001b[0;34m)\u001b[0m\u001b[0;34m\u001b[0m\u001b[0;34m\u001b[0m\u001b[0m\n",
            "\u001b[0;32m/usr/local/lib/python3.10/dist-packages/torch/nn/modules/module.py\u001b[0m in \u001b[0;36m_wrapped_call_impl\u001b[0;34m(self, *args, **kwargs)\u001b[0m\n\u001b[1;32m   1516\u001b[0m             \u001b[0;32mreturn\u001b[0m \u001b[0mself\u001b[0m\u001b[0;34m.\u001b[0m\u001b[0m_compiled_call_impl\u001b[0m\u001b[0;34m(\u001b[0m\u001b[0;34m*\u001b[0m\u001b[0margs\u001b[0m\u001b[0;34m,\u001b[0m \u001b[0;34m**\u001b[0m\u001b[0mkwargs\u001b[0m\u001b[0;34m)\u001b[0m  \u001b[0;31m# type: ignore[misc]\u001b[0m\u001b[0;34m\u001b[0m\u001b[0;34m\u001b[0m\u001b[0m\n\u001b[1;32m   1517\u001b[0m         \u001b[0;32melse\u001b[0m\u001b[0;34m:\u001b[0m\u001b[0;34m\u001b[0m\u001b[0;34m\u001b[0m\u001b[0m\n\u001b[0;32m-> 1518\u001b[0;31m             \u001b[0;32mreturn\u001b[0m \u001b[0mself\u001b[0m\u001b[0;34m.\u001b[0m\u001b[0m_call_impl\u001b[0m\u001b[0;34m(\u001b[0m\u001b[0;34m*\u001b[0m\u001b[0margs\u001b[0m\u001b[0;34m,\u001b[0m \u001b[0;34m**\u001b[0m\u001b[0mkwargs\u001b[0m\u001b[0;34m)\u001b[0m\u001b[0;34m\u001b[0m\u001b[0;34m\u001b[0m\u001b[0m\n\u001b[0m\u001b[1;32m   1519\u001b[0m \u001b[0;34m\u001b[0m\u001b[0m\n\u001b[1;32m   1520\u001b[0m     \u001b[0;32mdef\u001b[0m \u001b[0m_call_impl\u001b[0m\u001b[0;34m(\u001b[0m\u001b[0mself\u001b[0m\u001b[0;34m,\u001b[0m \u001b[0;34m*\u001b[0m\u001b[0margs\u001b[0m\u001b[0;34m,\u001b[0m \u001b[0;34m**\u001b[0m\u001b[0mkwargs\u001b[0m\u001b[0;34m)\u001b[0m\u001b[0;34m:\u001b[0m\u001b[0;34m\u001b[0m\u001b[0;34m\u001b[0m\u001b[0m\n",
            "\u001b[0;32m/usr/local/lib/python3.10/dist-packages/torch/nn/modules/module.py\u001b[0m in \u001b[0;36m_call_impl\u001b[0;34m(self, *args, **kwargs)\u001b[0m\n\u001b[1;32m   1525\u001b[0m                 \u001b[0;32mor\u001b[0m \u001b[0m_global_backward_pre_hooks\u001b[0m \u001b[0;32mor\u001b[0m \u001b[0m_global_backward_hooks\u001b[0m\u001b[0;34m\u001b[0m\u001b[0;34m\u001b[0m\u001b[0m\n\u001b[1;32m   1526\u001b[0m                 or _global_forward_hooks or _global_forward_pre_hooks):\n\u001b[0;32m-> 1527\u001b[0;31m             \u001b[0;32mreturn\u001b[0m \u001b[0mforward_call\u001b[0m\u001b[0;34m(\u001b[0m\u001b[0;34m*\u001b[0m\u001b[0margs\u001b[0m\u001b[0;34m,\u001b[0m \u001b[0;34m**\u001b[0m\u001b[0mkwargs\u001b[0m\u001b[0;34m)\u001b[0m\u001b[0;34m\u001b[0m\u001b[0;34m\u001b[0m\u001b[0m\n\u001b[0m\u001b[1;32m   1528\u001b[0m \u001b[0;34m\u001b[0m\u001b[0m\n\u001b[1;32m   1529\u001b[0m         \u001b[0;32mtry\u001b[0m\u001b[0;34m:\u001b[0m\u001b[0;34m\u001b[0m\u001b[0;34m\u001b[0m\u001b[0m\n",
            "\u001b[0;32m/usr/local/lib/python3.10/dist-packages/torch/nn/modules/container.py\u001b[0m in \u001b[0;36mforward\u001b[0;34m(self, input)\u001b[0m\n\u001b[1;32m    213\u001b[0m     \u001b[0;32mdef\u001b[0m \u001b[0mforward\u001b[0m\u001b[0;34m(\u001b[0m\u001b[0mself\u001b[0m\u001b[0;34m,\u001b[0m \u001b[0minput\u001b[0m\u001b[0;34m)\u001b[0m\u001b[0;34m:\u001b[0m\u001b[0;34m\u001b[0m\u001b[0;34m\u001b[0m\u001b[0m\n\u001b[1;32m    214\u001b[0m         \u001b[0;32mfor\u001b[0m \u001b[0mmodule\u001b[0m \u001b[0;32min\u001b[0m \u001b[0mself\u001b[0m\u001b[0;34m:\u001b[0m\u001b[0;34m\u001b[0m\u001b[0;34m\u001b[0m\u001b[0m\n\u001b[0;32m--> 215\u001b[0;31m             \u001b[0minput\u001b[0m \u001b[0;34m=\u001b[0m \u001b[0mmodule\u001b[0m\u001b[0;34m(\u001b[0m\u001b[0minput\u001b[0m\u001b[0;34m)\u001b[0m\u001b[0;34m\u001b[0m\u001b[0;34m\u001b[0m\u001b[0m\n\u001b[0m\u001b[1;32m    216\u001b[0m         \u001b[0;32mreturn\u001b[0m \u001b[0minput\u001b[0m\u001b[0;34m\u001b[0m\u001b[0;34m\u001b[0m\u001b[0m\n\u001b[1;32m    217\u001b[0m \u001b[0;34m\u001b[0m\u001b[0m\n",
            "\u001b[0;32m/usr/local/lib/python3.10/dist-packages/torch/nn/modules/module.py\u001b[0m in \u001b[0;36m_wrapped_call_impl\u001b[0;34m(self, *args, **kwargs)\u001b[0m\n\u001b[1;32m   1516\u001b[0m             \u001b[0;32mreturn\u001b[0m \u001b[0mself\u001b[0m\u001b[0;34m.\u001b[0m\u001b[0m_compiled_call_impl\u001b[0m\u001b[0;34m(\u001b[0m\u001b[0;34m*\u001b[0m\u001b[0margs\u001b[0m\u001b[0;34m,\u001b[0m \u001b[0;34m**\u001b[0m\u001b[0mkwargs\u001b[0m\u001b[0;34m)\u001b[0m  \u001b[0;31m# type: ignore[misc]\u001b[0m\u001b[0;34m\u001b[0m\u001b[0;34m\u001b[0m\u001b[0m\n\u001b[1;32m   1517\u001b[0m         \u001b[0;32melse\u001b[0m\u001b[0;34m:\u001b[0m\u001b[0;34m\u001b[0m\u001b[0;34m\u001b[0m\u001b[0m\n\u001b[0;32m-> 1518\u001b[0;31m             \u001b[0;32mreturn\u001b[0m \u001b[0mself\u001b[0m\u001b[0;34m.\u001b[0m\u001b[0m_call_impl\u001b[0m\u001b[0;34m(\u001b[0m\u001b[0;34m*\u001b[0m\u001b[0margs\u001b[0m\u001b[0;34m,\u001b[0m \u001b[0;34m**\u001b[0m\u001b[0mkwargs\u001b[0m\u001b[0;34m)\u001b[0m\u001b[0;34m\u001b[0m\u001b[0;34m\u001b[0m\u001b[0m\n\u001b[0m\u001b[1;32m   1519\u001b[0m \u001b[0;34m\u001b[0m\u001b[0m\n\u001b[1;32m   1520\u001b[0m     \u001b[0;32mdef\u001b[0m \u001b[0m_call_impl\u001b[0m\u001b[0;34m(\u001b[0m\u001b[0mself\u001b[0m\u001b[0;34m,\u001b[0m \u001b[0;34m*\u001b[0m\u001b[0margs\u001b[0m\u001b[0;34m,\u001b[0m \u001b[0;34m**\u001b[0m\u001b[0mkwargs\u001b[0m\u001b[0;34m)\u001b[0m\u001b[0;34m:\u001b[0m\u001b[0;34m\u001b[0m\u001b[0;34m\u001b[0m\u001b[0m\n",
            "\u001b[0;32m/usr/local/lib/python3.10/dist-packages/torch/nn/modules/module.py\u001b[0m in \u001b[0;36m_call_impl\u001b[0;34m(self, *args, **kwargs)\u001b[0m\n\u001b[1;32m   1525\u001b[0m                 \u001b[0;32mor\u001b[0m \u001b[0m_global_backward_pre_hooks\u001b[0m \u001b[0;32mor\u001b[0m \u001b[0m_global_backward_hooks\u001b[0m\u001b[0;34m\u001b[0m\u001b[0;34m\u001b[0m\u001b[0m\n\u001b[1;32m   1526\u001b[0m                 or _global_forward_hooks or _global_forward_pre_hooks):\n\u001b[0;32m-> 1527\u001b[0;31m             \u001b[0;32mreturn\u001b[0m \u001b[0mforward_call\u001b[0m\u001b[0;34m(\u001b[0m\u001b[0;34m*\u001b[0m\u001b[0margs\u001b[0m\u001b[0;34m,\u001b[0m \u001b[0;34m**\u001b[0m\u001b[0mkwargs\u001b[0m\u001b[0;34m)\u001b[0m\u001b[0;34m\u001b[0m\u001b[0;34m\u001b[0m\u001b[0m\n\u001b[0m\u001b[1;32m   1528\u001b[0m \u001b[0;34m\u001b[0m\u001b[0m\n\u001b[1;32m   1529\u001b[0m         \u001b[0;32mtry\u001b[0m\u001b[0;34m:\u001b[0m\u001b[0;34m\u001b[0m\u001b[0;34m\u001b[0m\u001b[0m\n",
            "\u001b[0;32m/usr/local/lib/python3.10/dist-packages/torchvision/models/resnet.py\u001b[0m in \u001b[0;36mforward\u001b[0;34m(self, x)\u001b[0m\n\u001b[1;32m     90\u001b[0m         \u001b[0midentity\u001b[0m \u001b[0;34m=\u001b[0m \u001b[0mx\u001b[0m\u001b[0;34m\u001b[0m\u001b[0;34m\u001b[0m\u001b[0m\n\u001b[1;32m     91\u001b[0m \u001b[0;34m\u001b[0m\u001b[0m\n\u001b[0;32m---> 92\u001b[0;31m         \u001b[0mout\u001b[0m \u001b[0;34m=\u001b[0m \u001b[0mself\u001b[0m\u001b[0;34m.\u001b[0m\u001b[0mconv1\u001b[0m\u001b[0;34m(\u001b[0m\u001b[0mx\u001b[0m\u001b[0;34m)\u001b[0m\u001b[0;34m\u001b[0m\u001b[0;34m\u001b[0m\u001b[0m\n\u001b[0m\u001b[1;32m     93\u001b[0m         \u001b[0mout\u001b[0m \u001b[0;34m=\u001b[0m \u001b[0mself\u001b[0m\u001b[0;34m.\u001b[0m\u001b[0mbn1\u001b[0m\u001b[0;34m(\u001b[0m\u001b[0mout\u001b[0m\u001b[0;34m)\u001b[0m\u001b[0;34m\u001b[0m\u001b[0;34m\u001b[0m\u001b[0m\n\u001b[1;32m     94\u001b[0m         \u001b[0mout\u001b[0m \u001b[0;34m=\u001b[0m \u001b[0mself\u001b[0m\u001b[0;34m.\u001b[0m\u001b[0mrelu\u001b[0m\u001b[0;34m(\u001b[0m\u001b[0mout\u001b[0m\u001b[0;34m)\u001b[0m\u001b[0;34m\u001b[0m\u001b[0;34m\u001b[0m\u001b[0m\n",
            "\u001b[0;32m/usr/local/lib/python3.10/dist-packages/torch/nn/modules/module.py\u001b[0m in \u001b[0;36m_wrapped_call_impl\u001b[0;34m(self, *args, **kwargs)\u001b[0m\n\u001b[1;32m   1516\u001b[0m             \u001b[0;32mreturn\u001b[0m \u001b[0mself\u001b[0m\u001b[0;34m.\u001b[0m\u001b[0m_compiled_call_impl\u001b[0m\u001b[0;34m(\u001b[0m\u001b[0;34m*\u001b[0m\u001b[0margs\u001b[0m\u001b[0;34m,\u001b[0m \u001b[0;34m**\u001b[0m\u001b[0mkwargs\u001b[0m\u001b[0;34m)\u001b[0m  \u001b[0;31m# type: ignore[misc]\u001b[0m\u001b[0;34m\u001b[0m\u001b[0;34m\u001b[0m\u001b[0m\n\u001b[1;32m   1517\u001b[0m         \u001b[0;32melse\u001b[0m\u001b[0;34m:\u001b[0m\u001b[0;34m\u001b[0m\u001b[0;34m\u001b[0m\u001b[0m\n\u001b[0;32m-> 1518\u001b[0;31m             \u001b[0;32mreturn\u001b[0m \u001b[0mself\u001b[0m\u001b[0;34m.\u001b[0m\u001b[0m_call_impl\u001b[0m\u001b[0;34m(\u001b[0m\u001b[0;34m*\u001b[0m\u001b[0margs\u001b[0m\u001b[0;34m,\u001b[0m \u001b[0;34m**\u001b[0m\u001b[0mkwargs\u001b[0m\u001b[0;34m)\u001b[0m\u001b[0;34m\u001b[0m\u001b[0;34m\u001b[0m\u001b[0m\n\u001b[0m\u001b[1;32m   1519\u001b[0m \u001b[0;34m\u001b[0m\u001b[0m\n\u001b[1;32m   1520\u001b[0m     \u001b[0;32mdef\u001b[0m \u001b[0m_call_impl\u001b[0m\u001b[0;34m(\u001b[0m\u001b[0mself\u001b[0m\u001b[0;34m,\u001b[0m \u001b[0;34m*\u001b[0m\u001b[0margs\u001b[0m\u001b[0;34m,\u001b[0m \u001b[0;34m**\u001b[0m\u001b[0mkwargs\u001b[0m\u001b[0;34m)\u001b[0m\u001b[0;34m:\u001b[0m\u001b[0;34m\u001b[0m\u001b[0;34m\u001b[0m\u001b[0m\n",
            "\u001b[0;32m/usr/local/lib/python3.10/dist-packages/torch/nn/modules/module.py\u001b[0m in \u001b[0;36m_call_impl\u001b[0;34m(self, *args, **kwargs)\u001b[0m\n\u001b[1;32m   1525\u001b[0m                 \u001b[0;32mor\u001b[0m \u001b[0m_global_backward_pre_hooks\u001b[0m \u001b[0;32mor\u001b[0m \u001b[0m_global_backward_hooks\u001b[0m\u001b[0;34m\u001b[0m\u001b[0;34m\u001b[0m\u001b[0m\n\u001b[1;32m   1526\u001b[0m                 or _global_forward_hooks or _global_forward_pre_hooks):\n\u001b[0;32m-> 1527\u001b[0;31m             \u001b[0;32mreturn\u001b[0m \u001b[0mforward_call\u001b[0m\u001b[0;34m(\u001b[0m\u001b[0;34m*\u001b[0m\u001b[0margs\u001b[0m\u001b[0;34m,\u001b[0m \u001b[0;34m**\u001b[0m\u001b[0mkwargs\u001b[0m\u001b[0;34m)\u001b[0m\u001b[0;34m\u001b[0m\u001b[0;34m\u001b[0m\u001b[0m\n\u001b[0m\u001b[1;32m   1528\u001b[0m \u001b[0;34m\u001b[0m\u001b[0m\n\u001b[1;32m   1529\u001b[0m         \u001b[0;32mtry\u001b[0m\u001b[0;34m:\u001b[0m\u001b[0;34m\u001b[0m\u001b[0;34m\u001b[0m\u001b[0m\n",
            "\u001b[0;32m/usr/local/lib/python3.10/dist-packages/torch/nn/modules/conv.py\u001b[0m in \u001b[0;36mforward\u001b[0;34m(self, input)\u001b[0m\n\u001b[1;32m    458\u001b[0m \u001b[0;34m\u001b[0m\u001b[0m\n\u001b[1;32m    459\u001b[0m     \u001b[0;32mdef\u001b[0m \u001b[0mforward\u001b[0m\u001b[0;34m(\u001b[0m\u001b[0mself\u001b[0m\u001b[0;34m,\u001b[0m \u001b[0minput\u001b[0m\u001b[0;34m:\u001b[0m \u001b[0mTensor\u001b[0m\u001b[0;34m)\u001b[0m \u001b[0;34m->\u001b[0m \u001b[0mTensor\u001b[0m\u001b[0;34m:\u001b[0m\u001b[0;34m\u001b[0m\u001b[0;34m\u001b[0m\u001b[0m\n\u001b[0;32m--> 460\u001b[0;31m         \u001b[0;32mreturn\u001b[0m \u001b[0mself\u001b[0m\u001b[0;34m.\u001b[0m\u001b[0m_conv_forward\u001b[0m\u001b[0;34m(\u001b[0m\u001b[0minput\u001b[0m\u001b[0;34m,\u001b[0m \u001b[0mself\u001b[0m\u001b[0;34m.\u001b[0m\u001b[0mweight\u001b[0m\u001b[0;34m,\u001b[0m \u001b[0mself\u001b[0m\u001b[0;34m.\u001b[0m\u001b[0mbias\u001b[0m\u001b[0;34m)\u001b[0m\u001b[0;34m\u001b[0m\u001b[0;34m\u001b[0m\u001b[0m\n\u001b[0m\u001b[1;32m    461\u001b[0m \u001b[0;34m\u001b[0m\u001b[0m\n\u001b[1;32m    462\u001b[0m \u001b[0;32mclass\u001b[0m \u001b[0mConv3d\u001b[0m\u001b[0;34m(\u001b[0m\u001b[0m_ConvNd\u001b[0m\u001b[0;34m)\u001b[0m\u001b[0;34m:\u001b[0m\u001b[0;34m\u001b[0m\u001b[0;34m\u001b[0m\u001b[0m\n",
            "\u001b[0;32m/usr/local/lib/python3.10/dist-packages/torch/nn/modules/conv.py\u001b[0m in \u001b[0;36m_conv_forward\u001b[0;34m(self, input, weight, bias)\u001b[0m\n\u001b[1;32m    454\u001b[0m                             \u001b[0mweight\u001b[0m\u001b[0;34m,\u001b[0m \u001b[0mbias\u001b[0m\u001b[0;34m,\u001b[0m \u001b[0mself\u001b[0m\u001b[0;34m.\u001b[0m\u001b[0mstride\u001b[0m\u001b[0;34m,\u001b[0m\u001b[0;34m\u001b[0m\u001b[0;34m\u001b[0m\u001b[0m\n\u001b[1;32m    455\u001b[0m                             _pair(0), self.dilation, self.groups)\n\u001b[0;32m--> 456\u001b[0;31m         return F.conv2d(input, weight, bias, self.stride,\n\u001b[0m\u001b[1;32m    457\u001b[0m                         self.padding, self.dilation, self.groups)\n\u001b[1;32m    458\u001b[0m \u001b[0;34m\u001b[0m\u001b[0m\n",
            "\u001b[0;31mKeyboardInterrupt\u001b[0m: "
          ]
        }
      ],
      "source": [
        "from PIL import Image\n",
        "from torch.optim import lr_scheduler\n",
        "# Training the Siamese network\n",
        "num_epochs = 10\n",
        "lambda_l2 = 0.003\n",
        "scheduler = lr_scheduler.StepLR(optimizerA, step_size=4, gamma=0.5)\n",
        "\n",
        "for epoch in range(num_epochs):\n",
        "    siamese_net.train()\n",
        "    running_loss = 0.0\n",
        "    for i, data in enumerate(train_dataloader, 0):\n",
        "        inputs1, inputs2, labels = data\n",
        "        optimizerA.zero_grad()\n",
        "        outputs1, outputs2 = siamese_net(inputs1, inputs2)\n",
        "        loss = criterion(outputs1, outputs2, labels)\n",
        "        l2_regularization = 0.0\n",
        "        for param in siamese_net.parameters():\n",
        "            l2_regularization += torch.norm(param, 2)  # L2 norm of model parameters\n",
        "\n",
        "        # Add L2 regularization term to the loss\n",
        "        loss += lambda_l2 * l2_regularization\n",
        "        loss.backward()\n",
        "        optimizerA.step()\n",
        "        running_loss += loss.item()\n",
        "\n",
        "    print(f\"Epoch {epoch + 1}, Loss: {running_loss / (i + 1)}\")"
      ]
    },
    {
      "cell_type": "markdown",
      "metadata": {
        "id": "m8NORJbWtLz_"
      },
      "source": [
        "#### StepLR as learning rate scheduler and OptimizerB i.e. SGD in this code block. Also L2 regularization has been used to prevent overfitting with suitable lambda_l2"
      ]
    },
    {
      "cell_type": "code",
      "execution_count": null,
      "metadata": {
        "colab": {
          "base_uri": "https://localhost:8080/"
        },
        "id": "I70-gRfktKfs",
        "outputId": "16a7ca22-6ed6-4309-cf6a-6ed935227c18"
      },
      "outputs": [
        {
          "name": "stdout",
          "output_type": "stream",
          "text": [
            "Epoch 1, Loss: 1.8785351056319017\n",
            "Epoch 2, Loss: 1.8239924815984874\n",
            "Epoch 3, Loss: 1.7160275074151845\n",
            "Epoch 4, Loss: 1.7101552761518037\n",
            "Epoch 5, Loss: 1.69119498362908\n",
            "Epoch 6, Loss: 1.667201353953435\n",
            "Epoch 7, Loss: 1.629741201033959\n",
            "Epoch 8, Loss: 1.6313895353904138\n",
            "Epoch 9, Loss: 1.6277378155634954\n",
            "Epoch 10, Loss: 1.6170539947656484\n"
          ]
        }
      ],
      "source": [
        "from PIL import Image\n",
        "from torch.optim import lr_scheduler\n",
        "# Training the Siamese network\n",
        "num_epochs = 10\n",
        "lambda_l2 = 0.003\n",
        "scheduler = lr_scheduler.StepLR(optimizerA, step_size=4, gamma=0.5)\n",
        "\n",
        "for epoch in range(num_epochs):\n",
        "    siamese_net.train()\n",
        "    running_loss = 0.0\n",
        "    for i, data in enumerate(train_dataloader, 0):\n",
        "        inputs1, inputs2, labels = data\n",
        "        optimizerB.zero_grad()\n",
        "        outputs1, outputs2 = siamese_net(inputs1, inputs2)\n",
        "        loss = criterion(outputs1, outputs2, labels)\n",
        "        l2_regularization = 0.0\n",
        "        for param in siamese_net.parameters():\n",
        "            l2_regularization += torch.norm(param, 2)  # L2 norm of model parameters\n",
        "\n",
        "        # Add L2 regularization term to the loss\n",
        "        loss += lambda_l2 * l2_regularization\n",
        "        loss.backward()\n",
        "        optimizerB.step()\n",
        "        running_loss += loss.item()\n",
        "\n",
        "    print(f\"Epoch {epoch + 1}, Loss: {running_loss / (i + 1)}\")"
      ]
    },
    {
      "cell_type": "markdown",
      "metadata": {
        "id": "y9PFPMyywObe"
      },
      "source": [
        "#### In this case a scheduler which reduces by a factor when the validation loss plateaus is used along with OptimizerB i.e. SGD. Also L1 regularization is used along with L2 regularization with variable constants"
      ]
    },
    {
      "cell_type": "code",
      "execution_count": null,
      "metadata": {
        "colab": {
          "base_uri": "https://localhost:8080/"
        },
        "id": "741hAysCXQkP",
        "outputId": "15e3efb4-97da-4b16-8e47-8ee91cc9c85d"
      },
      "outputs": [
        {
          "name": "stdout",
          "output_type": "stream",
          "text": [
            "672.9606323242188\n",
            "1345.6432495117188\n",
            "2018.3185424804688\n",
            "2690.5913696289062\n",
            "3362.7723388671875\n",
            "4034.7603149414062\n",
            "4706.507568359375\n",
            "5378.2447509765625\n",
            "6049.672668457031\n",
            "6721.0084228515625\n",
            "7392.0709228515625\n",
            "8062.9591064453125\n",
            "8733.625244140625\n",
            "Epoch 1, Loss: 671.8173264723557\n",
            "Epoch 1, Validation_Loss: 0.34925335219928194\n",
            "Epoch 1, Learning Rate: 0.001\n",
            "670.5845336914062\n",
            "1341.006103515625\n",
            "2011.3411254882812\n",
            "2681.4976806640625\n",
            "3351.3914794921875\n",
            "4021.0936279296875\n",
            "4690.4788818359375\n",
            "5359.750915527344\n",
            "6028.744567871094\n",
            "6697.583312988281\n",
            "7366.275390625\n",
            "8034.7408447265625\n",
            "8703.103393554688\n",
            "Epoch 2, Loss: 669.469491811899\n",
            "Epoch 2, Validation_Loss: 0.32917191088199615\n",
            "Epoch 2, Learning Rate: 0.001\n",
            "668.1793212890625\n",
            "1336.0847778320312\n",
            "2003.9523315429688\n",
            "2671.706787109375\n",
            "3339.09033203125\n",
            "4006.4138793945312\n",
            "4673.5181884765625\n",
            "5340.486511230469\n",
            "6007.186279296875\n",
            "6673.6956787109375\n",
            "7340.080871582031\n",
            "8006.258972167969\n",
            "8672.247619628906\n",
            "Epoch 3, Loss: 667.0959707406851\n",
            "Epoch 3, Validation_Loss: 0.3032491079398564\n",
            "Epoch 3, Learning Rate: 0.001\n",
            "665.820556640625\n",
            "1331.5322265625\n",
            "1996.9937744140625\n",
            "2662.2852172851562\n",
            "3327.4661254882812\n",
            "3992.5994262695312\n",
            "4657.2987060546875\n",
            "5321.8623046875\n",
            "5986.0992431640625\n",
            "6650.17626953125\n",
            "7314.161682128906\n",
            "7978.025390625\n",
            "8641.622436523438\n",
            "Epoch 4, Loss: 664.7401874248798\n",
            "Epoch 4, Validation_Loss: 0.2930556961468288\n",
            "Epoch 4, Learning Rate: 0.001\n",
            "663.6631469726562\n",
            "1327.044921875\n",
            "1990.2078857421875\n",
            "2653.26171875\n",
            "3315.977294921875\n",
            "3978.5418701171875\n",
            "4640.938293457031\n",
            "5303.1865234375\n",
            "5965.1915283203125\n",
            "6627.040832519531\n",
            "7288.6846923828125\n",
            "7950.2484130859375\n",
            "8611.624755859375\n",
            "Epoch 5, Loss: 662.4326735276443\n",
            "Epoch 5, Validation_Loss: 0.32034266207899365\n",
            "Epoch 5, Learning Rate: 0.001\n",
            "661.2194213867188\n",
            "1322.1607666015625\n",
            "1982.91455078125\n",
            "2643.639404296875\n",
            "3304.0443115234375\n",
            "3964.238525390625\n",
            "4624.41650390625\n",
            "5284.372314453125\n",
            "5944.068542480469\n",
            "6603.827575683594\n",
            "7263.33544921875\n",
            "7922.4320068359375\n",
            "8581.404296875\n",
            "Epoch 6, Loss: 660.1080228365385\n",
            "Epoch 6, Validation_Loss: 0.3013483498777662\n",
            "Epoch 6, Learning Rate: 0.001\n",
            "658.8568725585938\n",
            "1317.4937133789062\n",
            "1975.9279174804688\n",
            "2634.2142333984375\n",
            "3292.3193969726562\n",
            "3950.1685791015625\n",
            "4608.062316894531\n",
            "5265.611633300781\n",
            "5923.0321044921875\n",
            "6580.3544921875\n",
            "7237.618103027344\n",
            "7894.612365722656\n",
            "8551.322692871094\n",
            "Epoch 7, Loss: 657.7940532977765\n",
            "Epoch 7, Validation_Loss: 0.27453371030943735\n",
            "Epoch 7, Learning Rate: 0.001\n",
            "656.548583984375\n",
            "1312.9763793945312\n",
            "1969.1546020507812\n",
            "2625.1979370117188\n",
            "3281.0240478515625\n",
            "3936.7276611328125\n",
            "4592.227600097656\n",
            "5247.630187988281\n",
            "5902.716247558594\n",
            "6557.6456298828125\n",
            "7212.370910644531\n",
            "7866.952331542969\n",
            "8521.533813476562\n",
            "Epoch 8, Loss: 655.5026010366587\n",
            "Epoch 8, Validation_Loss: 0.29550675409180777\n",
            "Epoch 8, Learning Rate: 0.001\n",
            "654.2520141601562\n",
            "1308.3760375976562\n",
            "1962.2643432617188\n",
            "2615.9409790039062\n",
            "3269.5172729492188\n",
            "3922.8499145507812\n",
            "4576.1051025390625\n",
            "5229.286376953125\n",
            "5882.084777832031\n",
            "6534.7052001953125\n",
            "7187.2589111328125\n",
            "7839.531677246094\n",
            "8491.598510742188\n",
            "Epoch 9, Loss: 653.1998854417068\n",
            "Epoch 9, Validation_Loss: 0.32954048258917673\n",
            "Epoch 9, Learning Rate: 0.001\n",
            "652.0963134765625\n",
            "1303.8823852539062\n",
            "1955.5267944335938\n",
            "2606.9356079101562\n",
            "3258.2305908203125\n",
            "3909.2503051757812\n",
            "4560.128479003906\n",
            "5210.823669433594\n",
            "5861.3037109375\n",
            "6511.90283203125\n",
            "7162.133605957031\n",
            "7812.122253417969\n",
            "8461.980712890625\n",
            "Epoch 10, Loss: 650.9215932992788\n",
            "Epoch 10, Validation_Loss: 0.28039420183215824\n",
            "Epoch 10, Learning Rate: 0.001\n"
          ]
        }
      ],
      "source": [
        "from torch.optim import lr_scheduler\n",
        "\n",
        "# Training loop\n",
        "num_epochs = 10 # We can vary the number of epochs\n",
        "lambda_l2 = 0.003\n",
        "lambda_l1 = 0.004\n",
        "scheduler = lr_scheduler.ReduceLROnPlateau(optimizerB, mode='min', factor=0.5, patience=5, verbose=True)\n",
        "\n",
        "for epoch in range(num_epochs):\n",
        "    # Training code here\n",
        "    siamese_net.train()\n",
        "    running_loss = 0.0\n",
        "    for i, data in enumerate(train_dataloader, 0):\n",
        "        inputs1, inputs2, labels = data\n",
        "        optimizerB.zero_grad()\n",
        "        outputs1, outputs2 = siamese_net(inputs1, inputs2)\n",
        "        loss = criterion(outputs1, outputs2, labels) # Loss based on the loss function we choose above\n",
        "        l2_regularization = 0.0\n",
        "        l1_regularization = 0.0\n",
        "        for param in siamese_net.parameters():\n",
        "            l2_regularization += torch.norm(param, 2)  # L2 norm of model parameters\n",
        "            l1_regularization += torch.norm(param, 1)  # L1 norm of model parameters\n",
        "        # Add L2 and L1 regularization term to the loss(Elastic Net Regularization)\n",
        "        loss += lambda_l2 * l2_regularization + lambda_l1 * l1_regularization\n",
        "        loss.backward()\n",
        "        optimizerB.step()\n",
        "        running_loss += loss.item()\n",
        "    print(f\"Epoch {epoch + 1}, Loss: {running_loss / (i + 1)}\")\n",
        "    # Validation loop\n",
        "    siamese_net.eval()\n",
        "    validation_loss = 0.0\n",
        "\n",
        "    with torch.no_grad():\n",
        "        for j, data_val in enumerate(val_dataloader, 0):\n",
        "            inputs1, inputs2, labels = data_val\n",
        "            outputs1, outputs2 = siamese_net(inputs1, inputs2)\n",
        "            loss = criterion(outputs1, outputs2, labels)\n",
        "            validation_loss += loss.item()\n",
        "\n",
        "    # Provide the validation loss to the scheduler\n",
        "    scheduler.step(validation_loss) # Scheduler decides the learning rate based on the validation loss provided\n",
        "    print(f\"Epoch {epoch + 1}, Validation_Loss: {validation_loss / (j + 1)}\")\n",
        "\n",
        "    # Optionally, you can monitor the learning rate\n",
        "    print(f'Epoch {epoch + 1}, Learning Rate: {optimizerB.param_groups[0][\"lr\"]}')\n",
        "\n",
        "# After training, you can use the model for inference\n"
      ]
    },
    {
      "cell_type": "markdown",
      "metadata": {
        "id": "NawM0U0TsuEx"
      },
      "source": [
        "#### In this case a scheduler which reduces by a factor when the validation loss plateaus is used along with OptimizerA i.e. Adam. Also L1 regularization is used along with L2 regularization with variable constants"
      ]
    },
    {
      "cell_type": "code",
      "execution_count": 35,
      "metadata": {
        "colab": {
          "base_uri": "https://localhost:8080/"
        },
        "id": "piryr5ObsR2p",
        "outputId": "c3e20371-0416-4e34-c837-84505bd7ee55"
      },
      "outputs": [
        {
          "output_type": "stream",
          "name": "stdout",
          "text": [
            "Epoch 1, Loss: 576.2644254244291\n",
            "Epoch 1, Validation_Loss: 0.24017883837223053\n",
            "Epoch 1, Learning Rate: 0.001\n",
            "Epoch 2, Loss: 399.1070227989784\n",
            "Epoch 2, Validation_Loss: 0.2430251602615629\n",
            "Epoch 2, Learning Rate: 0.001\n",
            "Epoch 3, Loss: 270.6727341871995\n",
            "Epoch 3, Validation_Loss: 0.15528183802962303\n",
            "Epoch 3, Learning Rate: 0.001\n",
            "Epoch 4, Loss: 183.81775958721454\n",
            "Epoch 4, Validation_Loss: 0.1584995516708919\n",
            "Epoch 4, Learning Rate: 0.001\n",
            "Epoch 5, Loss: 127.7586200420673\n",
            "Epoch 5, Validation_Loss: 0.1366866058004754\n",
            "Epoch 5, Learning Rate: 0.001\n",
            "Epoch 6, Loss: 92.43249746469351\n",
            "Epoch 6, Validation_Loss: 0.15418017389518873\n",
            "Epoch 6, Learning Rate: 0.001\n",
            "Epoch 7, Loss: 71.09715564434345\n",
            "Epoch 7, Validation_Loss: 0.12291623583795237\n",
            "Epoch 7, Learning Rate: 0.001\n",
            "Epoch 8, Loss: 57.08909753652719\n",
            "Epoch 8, Validation_Loss: 2.5983229194368636\n",
            "Epoch 8, Learning Rate: 0.001\n",
            "Epoch 9, Loss: 48.38077691885141\n",
            "Epoch 9, Validation_Loss: 0.12470817559265665\n",
            "Epoch 9, Learning Rate: 0.001\n",
            "Epoch 10, Loss: 45.726006727952225\n",
            "Epoch 10, Validation_Loss: 0.12385035357770643\n",
            "Epoch 10, Learning Rate: 0.001\n"
          ]
        }
      ],
      "source": [
        "from torch.optim import lr_scheduler\n",
        "\n",
        "# Training loop\n",
        "num_epochs = 10 # We can vary the number of epochs\n",
        "lambda_l2 = 0.003\n",
        "lambda_l1 = 0.004\n",
        "scheduler = lr_scheduler.ReduceLROnPlateau(optimizerA, mode='min', factor=0.5, patience=5, verbose=True)\n",
        "\n",
        "for epoch in range(num_epochs):\n",
        "    # Training code here\n",
        "    siamese_net.train()\n",
        "    running_loss = 0.0\n",
        "    for i, data in enumerate(train_dataloader, 0):\n",
        "        inputs1, inputs2, labels = data\n",
        "        optimizerA.zero_grad()\n",
        "        outputs1, outputs2 = siamese_net(inputs1, inputs2)\n",
        "        loss = criterion(outputs1, outputs2, labels) # Loss based on the loss function we choose above\n",
        "        l2_regularization = 0.0\n",
        "        l1_regularization = 0.0\n",
        "        for param in siamese_net.parameters():\n",
        "            l2_regularization += torch.norm(param, 2)  # L2 norm of model parameters\n",
        "            l1_regularization += torch.norm(param, 1)  # L1 norm of model parameters\n",
        "        # Add L2 and L1 regularization term to the loss(Elastic Net Regularization)\n",
        "        loss += lambda_l2 * l2_regularization + lambda_l1 * l1_regularization\n",
        "        loss.backward()\n",
        "        optimizerA.step()\n",
        "        running_loss += loss.item()\n",
        "    print(f\"Epoch {epoch + 1}, Loss: {running_loss / (i + 1)}\")\n",
        "    # Validation loop\n",
        "    siamese_net.eval()\n",
        "    validation_loss = 0.0\n",
        "\n",
        "    with torch.no_grad():\n",
        "        for j, data_val in enumerate(val_dataloader, 0):\n",
        "            inputs1, inputs2, labels = data_val\n",
        "            outputs1, outputs2 = siamese_net(inputs1, inputs2)\n",
        "            loss = criterion(outputs1, outputs2, labels)\n",
        "            validation_loss += loss.item()\n",
        "\n",
        "    # Provide the validation loss to the scheduler\n",
        "    scheduler.step(validation_loss) # Scheduler decides the learning rate based on the validation loss provided\n",
        "    print(f\"Epoch {epoch + 1}, Validation_Loss: {validation_loss / (j + 1)}\")\n",
        "\n",
        "    # Optionally, you can monitor the learning rate\n",
        "    print(f'Epoch {epoch + 1}, Learning Rate: {optimizerB.param_groups[0][\"lr\"]}')\n",
        "\n",
        "# After training, you can use the model for inference\n"
      ]
    },
    {
      "cell_type": "markdown",
      "metadata": {
        "id": "jbzsdXyy2U5q"
      },
      "source": [
        "#### (8)Adam optimizer works better than as SGD can be sensitive to the choice of learning rate, Adam is more forgiving and often works well with a wider range of learning rates. This makes hyperparameter tuning less critical.\n",
        "\n"
      ]
    },
    {
      "cell_type": "markdown",
      "metadata": {
        "id": "p10jb3F24D59"
      },
      "source": [
        "#### Like SGD with momentum, Adam includes a momentum term that helps the optimizer navigate flat regions and accelerates convergence"
      ]
    },
    {
      "cell_type": "markdown",
      "metadata": {
        "id": "7egQGPKN56_n"
      },
      "source": [
        "#### (7)In case of learning rate schedulers ReduceLROnPlateau works better as compared to step LR as former takes into account the validation loss also against only the training loss by the latter\n",
        "\n",
        "\n",
        "\n"
      ]
    },
    {
      "cell_type": "markdown",
      "metadata": {
        "id": "UT0bgsNOyFPQ"
      },
      "source": [
        "#### Validating the model using the validation set"
      ]
    },
    {
      "cell_type": "code",
      "execution_count": 36,
      "metadata": {
        "colab": {
          "base_uri": "https://localhost:8080/",
          "height": 507
        },
        "id": "gFD7rTyCEfBm",
        "outputId": "af802a8b-c9e8-4d68-c484-860ff4797f29"
      },
      "outputs": [
        {
          "output_type": "display_data",
          "data": {
            "text/plain": [
              "<Figure size 640x480 with 1 Axes>"
            ],
            "image/png": "[encoded data removed]"
          },
          "metadata": {}
        },
        {
          "output_type": "stream",
          "name": "stdout",
          "text": [
            "Validation Accuracy: 17.00%\n",
            "Average Validation Loss: 0.1761\n"
          ]
        }
      ],
      "source": [
        "total_loss = 0\n",
        "losses = []\n",
        "correct = 0\n",
        "total = 0\n",
        "import matplotlib.pyplot as plt\n",
        "siamese_net.eval()\n",
        "with torch.no_grad():\n",
        "    for i, data in enumerate(val_dataloader, 0): # Loading data from the val_dataloader\n",
        "        #print(data)\n",
        "        inputs1, inputs2, labels = data\n",
        "        outputs1, outputs2 = siamese_net(inputs1, inputs2)\n",
        "        distances = F.pairwise_distance(outputs1, outputs2)\n",
        "        predicted = (distances < 0.05).float()  # Adjust the threshold distance between the 2 ouputs in tensor format for classification as same image or different\n",
        "        predicted = predicted.view(labels.size()) # Make the label and predicted tensors of the same shape\n",
        "        total += labels.size(0)\n",
        "        correct += (predicted == labels).sum().item() # Counting the number of correct outputs\n",
        "        loss = criterion(outputs1, outputs2, labels)\n",
        "        total_loss += loss.item()\n",
        "        losses.append(loss.item())\n",
        "\n",
        "avg_loss = total_loss / (i + 1)\n",
        "\n",
        "# Plot the loss curve\n",
        "plt.figure()\n",
        "plt.plot(losses)\n",
        "plt.xlabel(\"Validation Batch\")\n",
        "plt.ylabel(\"Loss\")\n",
        "plt.title(\"Validation Loss Curve\")\n",
        "plt.show()\n",
        "\n",
        "# Print validation accuracy and loss\n",
        "print(f\"Validation Accuracy: {100 * correct / total:.2f}%\") # Predicting the accuracy on validation dataset\n",
        "print(f\"Average Validation Loss: {avg_loss:.4f}\")"
      ]
    },
    {
      "cell_type": "markdown",
      "metadata": {
        "id": "oSfW4vPH6uLv"
      },
      "source": [
        "#### Testing the data using the test set"
      ]
    },
    {
      "cell_type": "code",
      "execution_count": 37,
      "metadata": {
        "colab": {
          "base_uri": "https://localhost:8080/",
          "height": 507
        },
        "id": "Y-z6yO-6jsA7",
        "outputId": "7018cc2f-382f-4ddc-aeb0-87231c28d93c"
      },
      "outputs": [
        {
          "output_type": "display_data",
          "data": {
            "text/plain": [
              "<Figure size 640x480 with 1 Axes>"
            ],
            "image/png": "[encoded data removed]"
          },
          "metadata": {}
        },
        {
          "output_type": "stream",
          "name": "stdout",
          "text": [
            "Test Accuracy: 18.33%\n",
            "Average Test Loss: 0.1358\n"
          ]
        }
      ],
      "source": [
        "correct = 0\n",
        "total = 0\n",
        "total_loss = 0\n",
        "losses = []\n",
        "siamese_net.eval()\n",
        "\n",
        "with torch.no_grad(): # Clearing all the accumulated gradient\n",
        "    for i, data in enumerate(test_dataloader, 0):\n",
        "        inputs1, inputs2, labels = data\n",
        "        outputs1, outputs2 = siamese_net(inputs1, inputs2)\n",
        "        distances = F.pairwise_distance(outputs1, outputs2)\n",
        "        predicted = (distances < 0.05).float()  # Adjust the threshold distance between the 2 ouputs in tensor format for classification as same image or different\n",
        "        total += labels.size(0)\n",
        "        predicted = predicted.view(labels.size())  # Make the label and predicted tensors of the same shape\n",
        "        correct += (predicted == labels).sum().item()\n",
        "        loss = criterion(outputs1, outputs2, labels)\n",
        "        total_loss += loss.item()\n",
        "        losses.append(loss.item())\n",
        "\n",
        "\n",
        "avg_loss = total_loss / (i + 1)\n",
        "\n",
        "# Plot the loss curve\n",
        "plt.figure()\n",
        "plt.plot(losses)\n",
        "plt.xlabel(\"Test Batch\")\n",
        "plt.ylabel(\"Loss\")\n",
        "plt.title(\"Test Loss Curve\")\n",
        "plt.show()\n",
        "\n",
        "# Print validation accuracy and loss\n",
        "print(f\"Test Accuracy: {100 * correct / total:.2f}%\") # Predicting the accuracy on test dataset\n",
        "print(f\"Average Test Loss: {avg_loss:.4f}\")"
      ]
    },
    {
      "cell_type": "markdown",
      "metadata": {
        "id": "tbbTqJFJjUKt"
      },
      "source": [
        "### References\n",
        "\n",
        "1.  ChatGPT\n",
        "2.  StackOverflow\n",
        "3.  https://towardsdatascience.com/learning-rate-schedules-and-adaptive-learning-rate-methods-for-deep-learning-2c8f433990d1\n",
        "4.  https://towardsdatascience.com/optimizers-for-training-neural-network-59450d71caf6\n",
        "\n"
      ]
    }
  ],
  "metadata": {
    "accelerator": "GPU",
    "colab": {
      "provenance": []
    },
    "kernelspec": {
      "display_name": "Python 3",
      "name": "python3"
    },
    "language_info": {
      "name": "python"
    }
  },
  "nbformat": 4,
  "nbformat_minor": 0
}